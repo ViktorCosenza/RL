{
 "cells": [
  {
   "cell_type": "code",
   "execution_count": 2,
   "metadata": {},
   "outputs": [],
   "source": [
    "import gym\n",
    "from collections import deque, namedtuple\n",
    "import random\n",
    "import numpy as np\n",
    "from tqdm.notebook import tqdm \n",
    "import time\n",
    "import altair as alt\n",
    "\n",
    "import pandas as pd\n",
    "import torch\n",
    "import torch\n",
    "from torch import nn\n",
    "from torch.optim import SGD, Adam\n",
    "from torch.distributions.categorical import Categorical"
   ]
  },
  {
   "cell_type": "markdown",
   "metadata": {},
   "source": [
    "## Vanilla Policy Gradient"
   ]
  },
  {
   "cell_type": "code",
   "execution_count": 27,
   "metadata": {},
   "outputs": [],
   "source": [
    "def create_model(input_size, output_size, hidden_layers=[16], activate_every=2):\n",
    "    layers = [nn.Linear(in_shape, out_shape) for (in_shape, out_shape) in toolz.sliding_window(2, hidden_layers)]\n",
    "    layers = [*toolz.concat([*ls, nn.ReLU()] for ls in toolz.partition(activate_every, layers))]\n",
    "    layers = [nn.ReLU(), *layers]\n",
    "    return nn.Sequential(\n",
    "        nn.Linear(input_size, hidden_layers[0]),\n",
    "        *layers,\n",
    "        nn.Linear(hidden_layers[-1], output_size)\n",
    "    )\n",
    "\n",
    "def reward_to_go(rews):\n",
    "    n = len(rews)\n",
    "    rtgs = np.zeros_like(rews)\n",
    "    for i in reversed(range(n)):\n",
    "        rtgs[i] = rews[i] + (rtgs[i+1] if i+1 < n else 0)\n",
    "    return rtgs\n",
    "\n",
    "def reward_to_go(rews):\n",
    "    n = len(rews)\n",
    "    rtgs = np.zeros_like(rews)\n",
    "    for i in reversed(range(n)):\n",
    "        rtgs[i] = rews[i] + (rtgs[i+1] if i+1 < n else 0)\n",
    "    return rtgs\n",
    "\n",
    "class Agent():\n",
    "    def __init__(self, env, lr=1e-2, batch_size=5000):\n",
    "        self.env = env\n",
    "        self.memory = self._create_memory()\n",
    "        self.model = create_model(self.env.observation_space.shape[0], self.env.action_space.n)\n",
    "        self.optim = Adam(self.model.parameters(), lr=lr)\n",
    "        self.batch_size = batch_size\n",
    "        self.df = pd.DataFrame()\n",
    "        self.epoch = 0\n",
    "        \n",
    "    def _reset_memory(self):\n",
    "        self.memory = self._create_memory()\n",
    "    \n",
    "    @staticmethod\n",
    "    def _create_memory():\n",
    "        m = namedtuple(\"Memory\", [\"states\", \"actions\", \"rewards\", \"ep_lens\", \"ep_rewards\", \"weights\"])\n",
    "        for key in m._fields:\n",
    "            setattr(m, key, [])\n",
    "        return m\n",
    "    \n",
    "    def loss_fn(self, states, actions, rewards):\n",
    "        log_ps = self.get_policy(states).log_prob(actions)\n",
    "        return -(log_ps * rewards).mean()\n",
    "    \n",
    "    def get_policy(self, state):\n",
    "        return Categorical(logits=self.model(state))\n",
    "    \n",
    "    def get_action(self, state):\n",
    "        return self.get_policy(state).sample().item()\n",
    "    \n",
    "    def train(self, epochs, show_every=0):\n",
    "        pbar = tqdm(range(epochs))\n",
    "        data = []\n",
    "        for epoch in pbar:\n",
    "            if show_every and epoch and not (epoch % show_every): self.play()\n",
    "            loss, returns, lens = self.train_step()\n",
    "            row = pd.Series({\n",
    "                \"epoch\": self.epoch,\n",
    "                \"loss\": loss.item(),\n",
    "                \"max_return\": max(returns),\n",
    "                \"max_len\": max(lens),\n",
    "                \"avg_return\": sum(returns) / len(returns),\n",
    "                \"avg_len\": sum(lens) / len(lens),\n",
    "            })\n",
    "            self.df = self.df.append(row, ignore_index=True)\n",
    "            pbar.set_postfix(row)\n",
    "            self.epoch += 1\n",
    "        return self.df\n",
    "            \n",
    "    def play(self, fps=30):\n",
    "        state = self.env.reset()\n",
    "        done = False\n",
    "        ep_len = 0\n",
    "        total_reward = 0\n",
    "        while not done:\n",
    "            if fps: self.env.render()\n",
    "            action = self.get_action(torch.as_tensor(state, dtype=torch.float32))\n",
    "            state, reward, done, _ = self.env.step(action)\n",
    "            if fps: time.sleep(1/fps)\n",
    "            \n",
    "            total_reward += reward\n",
    "            ep_len += 1\n",
    "            \n",
    "        if fps: self.env.close()\n",
    "        return ep_len, total_reward\n",
    "    \n",
    "    def train_step(self):  \n",
    "        while len(self.memory.states) < self.batch_size:\n",
    "            state = self.env.reset()\n",
    "            done = False\n",
    "            total_reward = 0\n",
    "            ep_len = 0\n",
    "            ep_rewards = []\n",
    "            while not done:\n",
    "                self.memory.states.append(state.copy())\n",
    "                action = self.get_action(torch.as_tensor(state, dtype=torch.float32))\n",
    "                state, reward, done, _ = self.env.step(action)\n",
    "                \n",
    "                self.memory.actions.append(action)\n",
    "                self.memory.rewards.append(reward)\n",
    "                ep_rewards.append(reward)\n",
    "                ep_len += 1\n",
    "                total_reward += reward\n",
    "                \n",
    "            self.memory.ep_lens.append(ep_len)\n",
    "            self.memory.ep_rewards.append(total_reward)\n",
    "            self.memory.weights += list(reward_to_go(ep_rewards))\n",
    "        \n",
    "        self.optim.zero_grad()\n",
    "        loss = self.loss_fn(\n",
    "            torch.as_tensor(self.memory.states, dtype=torch.float32),\n",
    "            torch.as_tensor(self.memory.actions, dtype=torch.int32),\n",
    "            torch.as_tensor(self.memory.weights, dtype=torch.float32)\n",
    "        )\n",
    "        loss.backward()\n",
    "        self.optim.step()\n",
    "\n",
    "        ep_returns = self.memory.ep_rewards\n",
    "        ep_lens = self.memory.ep_lens\n",
    "        self._reset_memory()\n",
    "        return loss, ep_returns, ep_lens\n",
    "a = Agent(gym.make(\"MountainCar-v0\"))"
   ]
  },
  {
   "cell_type": "code",
   "execution_count": 28,
   "metadata": {},
   "outputs": [
    {
     "data": {
      "application/vnd.jupyter.widget-view+json": {
       "model_id": "c16477dab86d429a8704173ceedc588a",
       "version_major": 2,
       "version_minor": 0
      },
      "text/plain": [
       "HBox(children=(FloatProgress(value=0.0, max=60.0), HTML(value='')))"
      ]
     },
     "metadata": {},
     "output_type": "display_data"
    },
    {
     "name": "stdout",
     "output_type": "stream",
     "text": [
      "\n"
     ]
    },
    {
     "data": {
      "text/html": [
       "\n",
       "<div id=\"altair-viz-30677526101f4877b235f9c911f8f5cc\"></div>\n",
       "<script type=\"text/javascript\">\n",
       "  (function(spec, embedOpt){\n",
       "    let outputDiv = document.currentScript.previousElementSibling;\n",
       "    if (outputDiv.id !== \"altair-viz-30677526101f4877b235f9c911f8f5cc\") {\n",
       "      outputDiv = document.getElementById(\"altair-viz-30677526101f4877b235f9c911f8f5cc\");\n",
       "    }\n",
       "    const paths = {\n",
       "      \"vega\": \"https://cdn.jsdelivr.net/npm//vega@5?noext\",\n",
       "      \"vega-lib\": \"https://cdn.jsdelivr.net/npm//vega-lib?noext\",\n",
       "      \"vega-lite\": \"https://cdn.jsdelivr.net/npm//vega-lite@4.8.1?noext\",\n",
       "      \"vega-embed\": \"https://cdn.jsdelivr.net/npm//vega-embed@6?noext\",\n",
       "    };\n",
       "\n",
       "    function loadScript(lib) {\n",
       "      return new Promise(function(resolve, reject) {\n",
       "        var s = document.createElement('script');\n",
       "        s.src = paths[lib];\n",
       "        s.async = true;\n",
       "        s.onload = () => resolve(paths[lib]);\n",
       "        s.onerror = () => reject(`Error loading script: ${paths[lib]}`);\n",
       "        document.getElementsByTagName(\"head\")[0].appendChild(s);\n",
       "      });\n",
       "    }\n",
       "\n",
       "    function showError(err) {\n",
       "      outputDiv.innerHTML = `<div class=\"error\" style=\"color:red;\">${err}</div>`;\n",
       "      throw err;\n",
       "    }\n",
       "\n",
       "    function displayChart(vegaEmbed) {\n",
       "      vegaEmbed(outputDiv, spec, embedOpt)\n",
       "        .catch(err => showError(`Javascript Error: ${err.message}<br>This usually means there's a typo in your chart specification. See the javascript console for the full traceback.`));\n",
       "    }\n",
       "\n",
       "    if(typeof define === \"function\" && define.amd) {\n",
       "      requirejs.config({paths});\n",
       "      require([\"vega-embed\"], displayChart, err => showError(`Error loading script: ${err.message}`));\n",
       "    } else if (typeof vegaEmbed === \"function\") {\n",
       "      displayChart(vegaEmbed);\n",
       "    } else {\n",
       "      loadScript(\"vega\")\n",
       "        .then(() => loadScript(\"vega-lite\"))\n",
       "        .then(() => loadScript(\"vega-embed\"))\n",
       "        .catch(showError)\n",
       "        .then(() => displayChart(vegaEmbed));\n",
       "    }\n",
       "  })({\"config\": {\"view\": {\"continuousWidth\": 400, \"continuousHeight\": 300}}, \"data\": {\"name\": \"data-5c1b197b23d65aea35cced374ad32ad8\"}, \"mark\": {\"type\": \"line\", \"color\": \"blue\"}, \"encoding\": {\"color\": {\"type\": \"nominal\", \"field\": \"type\"}, \"x\": {\"type\": \"quantitative\", \"field\": \"epoch\"}, \"y\": {\"type\": \"quantitative\", \"field\": \"value\"}}, \"$schema\": \"https://vega.github.io/schema/vega-lite/v4.8.1.json\", \"datasets\": {\"data-5c1b197b23d65aea35cced374ad32ad8\": [{\"epoch\": 0.0, \"type\": \"avg_len\", \"value\": 200.0}, {\"epoch\": 1.0, \"type\": \"avg_len\", \"value\": 200.0}, {\"epoch\": 2.0, \"type\": \"avg_len\", \"value\": 200.0}, {\"epoch\": 3.0, \"type\": \"avg_len\", \"value\": 200.0}, {\"epoch\": 4.0, \"type\": \"avg_len\", \"value\": 200.0}, {\"epoch\": 5.0, \"type\": \"avg_len\", \"value\": 200.0}, {\"epoch\": 6.0, \"type\": \"avg_len\", \"value\": 200.0}, {\"epoch\": 7.0, \"type\": \"avg_len\", \"value\": 200.0}, {\"epoch\": 8.0, \"type\": \"avg_len\", \"value\": 200.0}, {\"epoch\": 9.0, \"type\": \"avg_len\", \"value\": 200.0}, {\"epoch\": 10.0, \"type\": \"avg_len\", \"value\": 200.0}, {\"epoch\": 11.0, \"type\": \"avg_len\", \"value\": 200.0}, {\"epoch\": 12.0, \"type\": \"avg_len\", \"value\": 200.0}, {\"epoch\": 13.0, \"type\": \"avg_len\", \"value\": 200.0}, {\"epoch\": 14.0, \"type\": \"avg_len\", \"value\": 200.0}, {\"epoch\": 15.0, \"type\": \"avg_len\", \"value\": 200.0}, {\"epoch\": 16.0, \"type\": \"avg_len\", \"value\": 200.0}, {\"epoch\": 17.0, \"type\": \"avg_len\", \"value\": 200.0}, {\"epoch\": 18.0, \"type\": \"avg_len\", \"value\": 200.0}, {\"epoch\": 19.0, \"type\": \"avg_len\", \"value\": 200.0}, {\"epoch\": 20.0, \"type\": \"avg_len\", \"value\": 200.0}, {\"epoch\": 21.0, \"type\": \"avg_len\", \"value\": 200.0}, {\"epoch\": 22.0, \"type\": \"avg_len\", \"value\": 200.0}, {\"epoch\": 23.0, \"type\": \"avg_len\", \"value\": 200.0}, {\"epoch\": 24.0, \"type\": \"avg_len\", \"value\": 200.0}, {\"epoch\": 25.0, \"type\": \"avg_len\", \"value\": 200.0}, {\"epoch\": 26.0, \"type\": \"avg_len\", \"value\": 200.0}, {\"epoch\": 27.0, \"type\": \"avg_len\", \"value\": 200.0}, {\"epoch\": 28.0, \"type\": \"avg_len\", \"value\": 200.0}, {\"epoch\": 29.0, \"type\": \"avg_len\", \"value\": 200.0}, {\"epoch\": 30.0, \"type\": \"avg_len\", \"value\": 200.0}, {\"epoch\": 31.0, \"type\": \"avg_len\", \"value\": 200.0}, {\"epoch\": 32.0, \"type\": \"avg_len\", \"value\": 200.0}, {\"epoch\": 33.0, \"type\": \"avg_len\", \"value\": 200.0}, {\"epoch\": 34.0, \"type\": \"avg_len\", \"value\": 200.0}, {\"epoch\": 35.0, \"type\": \"avg_len\", \"value\": 200.0}, {\"epoch\": 36.0, \"type\": \"avg_len\", \"value\": 200.0}, {\"epoch\": 37.0, \"type\": \"avg_len\", \"value\": 200.0}, {\"epoch\": 38.0, \"type\": \"avg_len\", \"value\": 200.0}, {\"epoch\": 39.0, \"type\": \"avg_len\", \"value\": 200.0}, {\"epoch\": 40.0, \"type\": \"avg_len\", \"value\": 200.0}, {\"epoch\": 41.0, \"type\": \"avg_len\", \"value\": 200.0}, {\"epoch\": 42.0, \"type\": \"avg_len\", \"value\": 200.0}, {\"epoch\": 43.0, \"type\": \"avg_len\", \"value\": 200.0}, {\"epoch\": 44.0, \"type\": \"avg_len\", \"value\": 200.0}, {\"epoch\": 45.0, \"type\": \"avg_len\", \"value\": 200.0}, {\"epoch\": 46.0, \"type\": \"avg_len\", \"value\": 200.0}, {\"epoch\": 47.0, \"type\": \"avg_len\", \"value\": 200.0}, {\"epoch\": 48.0, \"type\": \"avg_len\", \"value\": 200.0}, {\"epoch\": 49.0, \"type\": \"avg_len\", \"value\": 200.0}, {\"epoch\": 50.0, \"type\": \"avg_len\", \"value\": 200.0}, {\"epoch\": 51.0, \"type\": \"avg_len\", \"value\": 200.0}, {\"epoch\": 52.0, \"type\": \"avg_len\", \"value\": 200.0}, {\"epoch\": 53.0, \"type\": \"avg_len\", \"value\": 200.0}, {\"epoch\": 54.0, \"type\": \"avg_len\", \"value\": 200.0}, {\"epoch\": 55.0, \"type\": \"avg_len\", \"value\": 200.0}, {\"epoch\": 56.0, \"type\": \"avg_len\", \"value\": 200.0}, {\"epoch\": 57.0, \"type\": \"avg_len\", \"value\": 200.0}, {\"epoch\": 58.0, \"type\": \"avg_len\", \"value\": 200.0}, {\"epoch\": 59.0, \"type\": \"avg_len\", \"value\": 200.0}, {\"epoch\": 0.0, \"type\": \"avg_return\", \"value\": -200.0}, {\"epoch\": 1.0, \"type\": \"avg_return\", \"value\": -200.0}, {\"epoch\": 2.0, \"type\": \"avg_return\", \"value\": -200.0}, {\"epoch\": 3.0, \"type\": \"avg_return\", \"value\": -200.0}, {\"epoch\": 4.0, \"type\": \"avg_return\", \"value\": -200.0}, {\"epoch\": 5.0, \"type\": \"avg_return\", \"value\": -200.0}, {\"epoch\": 6.0, \"type\": \"avg_return\", \"value\": -200.0}, {\"epoch\": 7.0, \"type\": \"avg_return\", \"value\": -200.0}, {\"epoch\": 8.0, \"type\": \"avg_return\", \"value\": -200.0}, {\"epoch\": 9.0, \"type\": \"avg_return\", \"value\": -200.0}, {\"epoch\": 10.0, \"type\": \"avg_return\", \"value\": -200.0}, {\"epoch\": 11.0, \"type\": \"avg_return\", \"value\": -200.0}, {\"epoch\": 12.0, \"type\": \"avg_return\", \"value\": -200.0}, {\"epoch\": 13.0, \"type\": \"avg_return\", \"value\": -200.0}, {\"epoch\": 14.0, \"type\": \"avg_return\", \"value\": -200.0}, {\"epoch\": 15.0, \"type\": \"avg_return\", \"value\": -200.0}, {\"epoch\": 16.0, \"type\": \"avg_return\", \"value\": -200.0}, {\"epoch\": 17.0, \"type\": \"avg_return\", \"value\": -200.0}, {\"epoch\": 18.0, \"type\": \"avg_return\", \"value\": -200.0}, {\"epoch\": 19.0, \"type\": \"avg_return\", \"value\": -200.0}, {\"epoch\": 20.0, \"type\": \"avg_return\", \"value\": -200.0}, {\"epoch\": 21.0, \"type\": \"avg_return\", \"value\": -200.0}, {\"epoch\": 22.0, \"type\": \"avg_return\", \"value\": -200.0}, {\"epoch\": 23.0, \"type\": \"avg_return\", \"value\": -200.0}, {\"epoch\": 24.0, \"type\": \"avg_return\", \"value\": -200.0}, {\"epoch\": 25.0, \"type\": \"avg_return\", \"value\": -200.0}, {\"epoch\": 26.0, \"type\": \"avg_return\", \"value\": -200.0}, {\"epoch\": 27.0, \"type\": \"avg_return\", \"value\": -200.0}, {\"epoch\": 28.0, \"type\": \"avg_return\", \"value\": -200.0}, {\"epoch\": 29.0, \"type\": \"avg_return\", \"value\": -200.0}, {\"epoch\": 30.0, \"type\": \"avg_return\", \"value\": -200.0}, {\"epoch\": 31.0, \"type\": \"avg_return\", \"value\": -200.0}, {\"epoch\": 32.0, \"type\": \"avg_return\", \"value\": -200.0}, {\"epoch\": 33.0, \"type\": \"avg_return\", \"value\": -200.0}, {\"epoch\": 34.0, \"type\": \"avg_return\", \"value\": -200.0}, {\"epoch\": 35.0, \"type\": \"avg_return\", \"value\": -200.0}, {\"epoch\": 36.0, \"type\": \"avg_return\", \"value\": -200.0}, {\"epoch\": 37.0, \"type\": \"avg_return\", \"value\": -200.0}, {\"epoch\": 38.0, \"type\": \"avg_return\", \"value\": -200.0}, {\"epoch\": 39.0, \"type\": \"avg_return\", \"value\": -200.0}, {\"epoch\": 40.0, \"type\": \"avg_return\", \"value\": -200.0}, {\"epoch\": 41.0, \"type\": \"avg_return\", \"value\": -200.0}, {\"epoch\": 42.0, \"type\": \"avg_return\", \"value\": -200.0}, {\"epoch\": 43.0, \"type\": \"avg_return\", \"value\": -200.0}, {\"epoch\": 44.0, \"type\": \"avg_return\", \"value\": -200.0}, {\"epoch\": 45.0, \"type\": \"avg_return\", \"value\": -200.0}, {\"epoch\": 46.0, \"type\": \"avg_return\", \"value\": -200.0}, {\"epoch\": 47.0, \"type\": \"avg_return\", \"value\": -200.0}, {\"epoch\": 48.0, \"type\": \"avg_return\", \"value\": -200.0}, {\"epoch\": 49.0, \"type\": \"avg_return\", \"value\": -200.0}, {\"epoch\": 50.0, \"type\": \"avg_return\", \"value\": -200.0}, {\"epoch\": 51.0, \"type\": \"avg_return\", \"value\": -200.0}, {\"epoch\": 52.0, \"type\": \"avg_return\", \"value\": -200.0}, {\"epoch\": 53.0, \"type\": \"avg_return\", \"value\": -200.0}, {\"epoch\": 54.0, \"type\": \"avg_return\", \"value\": -200.0}, {\"epoch\": 55.0, \"type\": \"avg_return\", \"value\": -200.0}, {\"epoch\": 56.0, \"type\": \"avg_return\", \"value\": -200.0}, {\"epoch\": 57.0, \"type\": \"avg_return\", \"value\": -200.0}, {\"epoch\": 58.0, \"type\": \"avg_return\", \"value\": -200.0}, {\"epoch\": 59.0, \"type\": \"avg_return\", \"value\": -200.0}, {\"epoch\": 0.0, \"type\": \"loss\", \"value\": -108.40885162353516}, {\"epoch\": 1.0, \"type\": \"loss\", \"value\": -109.97791290283203}, {\"epoch\": 2.0, \"type\": \"loss\", \"value\": -109.31849670410156}, {\"epoch\": 3.0, \"type\": \"loss\", \"value\": -109.11812591552734}, {\"epoch\": 4.0, \"type\": \"loss\", \"value\": -109.59697723388672}, {\"epoch\": 5.0, \"type\": \"loss\", \"value\": -109.97061157226562}, {\"epoch\": 6.0, \"type\": \"loss\", \"value\": -109.72844696044922}, {\"epoch\": 7.0, \"type\": \"loss\", \"value\": -109.28958892822266}, {\"epoch\": 8.0, \"type\": \"loss\", \"value\": -109.06279754638672}, {\"epoch\": 9.0, \"type\": \"loss\", \"value\": -109.2802734375}, {\"epoch\": 10.0, \"type\": \"loss\", \"value\": -109.18830108642578}, {\"epoch\": 11.0, \"type\": \"loss\", \"value\": -108.66407775878906}, {\"epoch\": 12.0, \"type\": \"loss\", \"value\": -108.47335052490234}, {\"epoch\": 13.0, \"type\": \"loss\", \"value\": -108.63968658447266}, {\"epoch\": 14.0, \"type\": \"loss\", \"value\": -108.0287857055664}, {\"epoch\": 15.0, \"type\": \"loss\", \"value\": -107.21256256103516}, {\"epoch\": 16.0, \"type\": \"loss\", \"value\": -109.13301086425781}, {\"epoch\": 17.0, \"type\": \"loss\", \"value\": -109.1636962890625}, {\"epoch\": 18.0, \"type\": \"loss\", \"value\": -109.85191345214844}, {\"epoch\": 19.0, \"type\": \"loss\", \"value\": -109.6459732055664}, {\"epoch\": 20.0, \"type\": \"loss\", \"value\": -109.7717514038086}, {\"epoch\": 21.0, \"type\": \"loss\", \"value\": -109.24878692626953}, {\"epoch\": 22.0, \"type\": \"loss\", \"value\": -109.76529693603516}, {\"epoch\": 23.0, \"type\": \"loss\", \"value\": -110.21338653564453}, {\"epoch\": 24.0, \"type\": \"loss\", \"value\": -109.7119140625}, {\"epoch\": 25.0, \"type\": \"loss\", \"value\": -109.7864761352539}, {\"epoch\": 26.0, \"type\": \"loss\", \"value\": -109.36174774169922}, {\"epoch\": 27.0, \"type\": \"loss\", \"value\": -109.01619720458984}, {\"epoch\": 28.0, \"type\": \"loss\", \"value\": -108.05329895019531}, {\"epoch\": 29.0, \"type\": \"loss\", \"value\": -106.43444061279297}, {\"epoch\": 30.0, \"type\": \"loss\", \"value\": -104.8870620727539}, {\"epoch\": 31.0, \"type\": \"loss\", \"value\": -103.25491333007812}, {\"epoch\": 32.0, \"type\": \"loss\", \"value\": -102.89730072021484}, {\"epoch\": 33.0, \"type\": \"loss\", \"value\": -101.51429748535156}, {\"epoch\": 34.0, \"type\": \"loss\", \"value\": -98.97004699707031}, {\"epoch\": 35.0, \"type\": \"loss\", \"value\": -96.5894775390625}, {\"epoch\": 36.0, \"type\": \"loss\", \"value\": -95.88034057617188}, {\"epoch\": 37.0, \"type\": \"loss\", \"value\": -97.94038391113281}, {\"epoch\": 38.0, \"type\": \"loss\", \"value\": -94.89149475097656}, {\"epoch\": 39.0, \"type\": \"loss\", \"value\": -96.94754791259766}, {\"epoch\": 40.0, \"type\": \"loss\", \"value\": -97.5156478881836}, {\"epoch\": 41.0, \"type\": \"loss\", \"value\": -97.76842498779297}, {\"epoch\": 42.0, \"type\": \"loss\", \"value\": -96.0672836303711}, {\"epoch\": 43.0, \"type\": \"loss\", \"value\": -95.41207885742188}, {\"epoch\": 44.0, \"type\": \"loss\", \"value\": -97.4847640991211}, {\"epoch\": 45.0, \"type\": \"loss\", \"value\": -98.8865966796875}, {\"epoch\": 46.0, \"type\": \"loss\", \"value\": -100.38526916503906}, {\"epoch\": 47.0, \"type\": \"loss\", \"value\": -101.8818359375}, {\"epoch\": 48.0, \"type\": \"loss\", \"value\": -103.14506530761719}, {\"epoch\": 49.0, \"type\": \"loss\", \"value\": -105.13731384277344}, {\"epoch\": 50.0, \"type\": \"loss\", \"value\": -106.27102661132812}, {\"epoch\": 51.0, \"type\": \"loss\", \"value\": -107.86221313476562}, {\"epoch\": 52.0, \"type\": \"loss\", \"value\": -107.88369750976562}, {\"epoch\": 53.0, \"type\": \"loss\", \"value\": -109.26716613769531}, {\"epoch\": 54.0, \"type\": \"loss\", \"value\": -107.92787170410156}, {\"epoch\": 55.0, \"type\": \"loss\", \"value\": -108.22762298583984}, {\"epoch\": 56.0, \"type\": \"loss\", \"value\": -107.48717498779297}, {\"epoch\": 57.0, \"type\": \"loss\", \"value\": -108.77806091308594}, {\"epoch\": 58.0, \"type\": \"loss\", \"value\": -108.2210464477539}, {\"epoch\": 59.0, \"type\": \"loss\", \"value\": -107.99406433105469}, {\"epoch\": 0.0, \"type\": \"max_len\", \"value\": 200.0}, {\"epoch\": 1.0, \"type\": \"max_len\", \"value\": 200.0}, {\"epoch\": 2.0, \"type\": \"max_len\", \"value\": 200.0}, {\"epoch\": 3.0, \"type\": \"max_len\", \"value\": 200.0}, {\"epoch\": 4.0, \"type\": \"max_len\", \"value\": 200.0}, {\"epoch\": 5.0, \"type\": \"max_len\", \"value\": 200.0}, {\"epoch\": 6.0, \"type\": \"max_len\", \"value\": 200.0}, {\"epoch\": 7.0, \"type\": \"max_len\", \"value\": 200.0}, {\"epoch\": 8.0, \"type\": \"max_len\", \"value\": 200.0}, {\"epoch\": 9.0, \"type\": \"max_len\", \"value\": 200.0}, {\"epoch\": 10.0, \"type\": \"max_len\", \"value\": 200.0}, {\"epoch\": 11.0, \"type\": \"max_len\", \"value\": 200.0}, {\"epoch\": 12.0, \"type\": \"max_len\", \"value\": 200.0}, {\"epoch\": 13.0, \"type\": \"max_len\", \"value\": 200.0}, {\"epoch\": 14.0, \"type\": \"max_len\", \"value\": 200.0}, {\"epoch\": 15.0, \"type\": \"max_len\", \"value\": 200.0}, {\"epoch\": 16.0, \"type\": \"max_len\", \"value\": 200.0}, {\"epoch\": 17.0, \"type\": \"max_len\", \"value\": 200.0}, {\"epoch\": 18.0, \"type\": \"max_len\", \"value\": 200.0}, {\"epoch\": 19.0, \"type\": \"max_len\", \"value\": 200.0}, {\"epoch\": 20.0, \"type\": \"max_len\", \"value\": 200.0}, {\"epoch\": 21.0, \"type\": \"max_len\", \"value\": 200.0}, {\"epoch\": 22.0, \"type\": \"max_len\", \"value\": 200.0}, {\"epoch\": 23.0, \"type\": \"max_len\", \"value\": 200.0}, {\"epoch\": 24.0, \"type\": \"max_len\", \"value\": 200.0}, {\"epoch\": 25.0, \"type\": \"max_len\", \"value\": 200.0}, {\"epoch\": 26.0, \"type\": \"max_len\", \"value\": 200.0}, {\"epoch\": 27.0, \"type\": \"max_len\", \"value\": 200.0}, {\"epoch\": 28.0, \"type\": \"max_len\", \"value\": 200.0}, {\"epoch\": 29.0, \"type\": \"max_len\", \"value\": 200.0}, {\"epoch\": 30.0, \"type\": \"max_len\", \"value\": 200.0}, {\"epoch\": 31.0, \"type\": \"max_len\", \"value\": 200.0}, {\"epoch\": 32.0, \"type\": \"max_len\", \"value\": 200.0}, {\"epoch\": 33.0, \"type\": \"max_len\", \"value\": 200.0}, {\"epoch\": 34.0, \"type\": \"max_len\", \"value\": 200.0}, {\"epoch\": 35.0, \"type\": \"max_len\", \"value\": 200.0}, {\"epoch\": 36.0, \"type\": \"max_len\", \"value\": 200.0}, {\"epoch\": 37.0, \"type\": \"max_len\", \"value\": 200.0}, {\"epoch\": 38.0, \"type\": \"max_len\", \"value\": 200.0}, {\"epoch\": 39.0, \"type\": \"max_len\", \"value\": 200.0}, {\"epoch\": 40.0, \"type\": \"max_len\", \"value\": 200.0}, {\"epoch\": 41.0, \"type\": \"max_len\", \"value\": 200.0}, {\"epoch\": 42.0, \"type\": \"max_len\", \"value\": 200.0}, {\"epoch\": 43.0, \"type\": \"max_len\", \"value\": 200.0}, {\"epoch\": 44.0, \"type\": \"max_len\", \"value\": 200.0}, {\"epoch\": 45.0, \"type\": \"max_len\", \"value\": 200.0}, {\"epoch\": 46.0, \"type\": \"max_len\", \"value\": 200.0}, {\"epoch\": 47.0, \"type\": \"max_len\", \"value\": 200.0}, {\"epoch\": 48.0, \"type\": \"max_len\", \"value\": 200.0}, {\"epoch\": 49.0, \"type\": \"max_len\", \"value\": 200.0}, {\"epoch\": 50.0, \"type\": \"max_len\", \"value\": 200.0}, {\"epoch\": 51.0, \"type\": \"max_len\", \"value\": 200.0}, {\"epoch\": 52.0, \"type\": \"max_len\", \"value\": 200.0}, {\"epoch\": 53.0, \"type\": \"max_len\", \"value\": 200.0}, {\"epoch\": 54.0, \"type\": \"max_len\", \"value\": 200.0}, {\"epoch\": 55.0, \"type\": \"max_len\", \"value\": 200.0}, {\"epoch\": 56.0, \"type\": \"max_len\", \"value\": 200.0}, {\"epoch\": 57.0, \"type\": \"max_len\", \"value\": 200.0}, {\"epoch\": 58.0, \"type\": \"max_len\", \"value\": 200.0}, {\"epoch\": 59.0, \"type\": \"max_len\", \"value\": 200.0}, {\"epoch\": 0.0, \"type\": \"max_return\", \"value\": -200.0}, {\"epoch\": 1.0, \"type\": \"max_return\", \"value\": -200.0}, {\"epoch\": 2.0, \"type\": \"max_return\", \"value\": -200.0}, {\"epoch\": 3.0, \"type\": \"max_return\", \"value\": -200.0}, {\"epoch\": 4.0, \"type\": \"max_return\", \"value\": -200.0}, {\"epoch\": 5.0, \"type\": \"max_return\", \"value\": -200.0}, {\"epoch\": 6.0, \"type\": \"max_return\", \"value\": -200.0}, {\"epoch\": 7.0, \"type\": \"max_return\", \"value\": -200.0}, {\"epoch\": 8.0, \"type\": \"max_return\", \"value\": -200.0}, {\"epoch\": 9.0, \"type\": \"max_return\", \"value\": -200.0}, {\"epoch\": 10.0, \"type\": \"max_return\", \"value\": -200.0}, {\"epoch\": 11.0, \"type\": \"max_return\", \"value\": -200.0}, {\"epoch\": 12.0, \"type\": \"max_return\", \"value\": -200.0}, {\"epoch\": 13.0, \"type\": \"max_return\", \"value\": -200.0}, {\"epoch\": 14.0, \"type\": \"max_return\", \"value\": -200.0}, {\"epoch\": 15.0, \"type\": \"max_return\", \"value\": -200.0}, {\"epoch\": 16.0, \"type\": \"max_return\", \"value\": -200.0}, {\"epoch\": 17.0, \"type\": \"max_return\", \"value\": -200.0}, {\"epoch\": 18.0, \"type\": \"max_return\", \"value\": -200.0}, {\"epoch\": 19.0, \"type\": \"max_return\", \"value\": -200.0}, {\"epoch\": 20.0, \"type\": \"max_return\", \"value\": -200.0}, {\"epoch\": 21.0, \"type\": \"max_return\", \"value\": -200.0}, {\"epoch\": 22.0, \"type\": \"max_return\", \"value\": -200.0}, {\"epoch\": 23.0, \"type\": \"max_return\", \"value\": -200.0}, {\"epoch\": 24.0, \"type\": \"max_return\", \"value\": -200.0}, {\"epoch\": 25.0, \"type\": \"max_return\", \"value\": -200.0}, {\"epoch\": 26.0, \"type\": \"max_return\", \"value\": -200.0}, {\"epoch\": 27.0, \"type\": \"max_return\", \"value\": -200.0}, {\"epoch\": 28.0, \"type\": \"max_return\", \"value\": -200.0}, {\"epoch\": 29.0, \"type\": \"max_return\", \"value\": -200.0}, {\"epoch\": 30.0, \"type\": \"max_return\", \"value\": -200.0}, {\"epoch\": 31.0, \"type\": \"max_return\", \"value\": -200.0}, {\"epoch\": 32.0, \"type\": \"max_return\", \"value\": -200.0}, {\"epoch\": 33.0, \"type\": \"max_return\", \"value\": -200.0}, {\"epoch\": 34.0, \"type\": \"max_return\", \"value\": -200.0}, {\"epoch\": 35.0, \"type\": \"max_return\", \"value\": -200.0}, {\"epoch\": 36.0, \"type\": \"max_return\", \"value\": -200.0}, {\"epoch\": 37.0, \"type\": \"max_return\", \"value\": -200.0}, {\"epoch\": 38.0, \"type\": \"max_return\", \"value\": -200.0}, {\"epoch\": 39.0, \"type\": \"max_return\", \"value\": -200.0}, {\"epoch\": 40.0, \"type\": \"max_return\", \"value\": -200.0}, {\"epoch\": 41.0, \"type\": \"max_return\", \"value\": -200.0}, {\"epoch\": 42.0, \"type\": \"max_return\", \"value\": -200.0}, {\"epoch\": 43.0, \"type\": \"max_return\", \"value\": -200.0}, {\"epoch\": 44.0, \"type\": \"max_return\", \"value\": -200.0}, {\"epoch\": 45.0, \"type\": \"max_return\", \"value\": -200.0}, {\"epoch\": 46.0, \"type\": \"max_return\", \"value\": -200.0}, {\"epoch\": 47.0, \"type\": \"max_return\", \"value\": -200.0}, {\"epoch\": 48.0, \"type\": \"max_return\", \"value\": -200.0}, {\"epoch\": 49.0, \"type\": \"max_return\", \"value\": -200.0}, {\"epoch\": 50.0, \"type\": \"max_return\", \"value\": -200.0}, {\"epoch\": 51.0, \"type\": \"max_return\", \"value\": -200.0}, {\"epoch\": 52.0, \"type\": \"max_return\", \"value\": -200.0}, {\"epoch\": 53.0, \"type\": \"max_return\", \"value\": -200.0}, {\"epoch\": 54.0, \"type\": \"max_return\", \"value\": -200.0}, {\"epoch\": 55.0, \"type\": \"max_return\", \"value\": -200.0}, {\"epoch\": 56.0, \"type\": \"max_return\", \"value\": -200.0}, {\"epoch\": 57.0, \"type\": \"max_return\", \"value\": -200.0}, {\"epoch\": 58.0, \"type\": \"max_return\", \"value\": -200.0}, {\"epoch\": 59.0, \"type\": \"max_return\", \"value\": -200.0}]}}, {\"mode\": \"vega-lite\"});\n",
       "</script>"
      ],
      "text/plain": [
       "alt.Chart(...)"
      ]
     },
     "execution_count": 28,
     "metadata": {},
     "output_type": "execute_result"
    }
   ],
   "source": [
    "results = a.train(60, show_every=15)\n",
    "\n",
    "base = alt.Chart(results.melt(\"epoch\", value_vars=None, var_name=\"type\"))\n",
    "(\n",
    "    base.mark_line(color=\"blue\").encode(x=\"epoch:Q\", y=\"value:Q\", color=\"type:N\")\n",
    ")"
   ]
  },
  {
   "cell_type": "code",
   "execution_count": 103,
   "metadata": {},
   "outputs": [
    {
     "data": {
      "text/plain": [
       "(127, 127.0)"
      ]
     },
     "execution_count": 103,
     "metadata": {},
     "output_type": "execute_result"
    }
   ],
   "source": [
    "a.play(fps=0)"
   ]
  }
 ],
 "metadata": {
  "kernelspec": {
   "display_name": "Python 3",
   "language": "python",
   "name": "python3"
  },
  "language_info": {
   "codemirror_mode": {
    "name": "ipython",
    "version": 3
   },
   "file_extension": ".py",
   "mimetype": "text/x-python",
   "name": "python",
   "nbconvert_exporter": "python",
   "pygments_lexer": "ipython3",
   "version": "3.8.3"
  }
 },
 "nbformat": 4,
 "nbformat_minor": 4
}

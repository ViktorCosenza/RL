{
 "cells": [
  {
   "cell_type": "code",
   "execution_count": 1,
   "metadata": {},
   "outputs": [],
   "source": [
    "import gym\n",
    "from collections import deque, namedtuple\n",
    "import random\n",
    "import numpy as np\n",
    "from tqdm.notebook import tqdm \n",
    "import time\n",
    "import altair as alt\n",
    "import pandas as pd\n",
    "import torch\n",
    "from torch import nn\n",
    "from torch.optim import SGD, Adam\n",
    "from torch.distributions.categorical import Categorical\n",
    "import toolz\n",
    "import sys\n",
    "\n",
    "if \"./\" not in sys.path:\n",
    "    sys.path.insert(0, \"./\")\n",
    "\n",
    "from core import create_model, reward_to_go, discount_cumsum"
   ]
  },
  {
   "cell_type": "code",
   "execution_count": 2,
   "metadata": {},
   "outputs": [],
   "source": [
    "class ValueFunction():\n",
    "    def __init__(self, input_size):\n",
    "        self.model = create_model(input_size, 1)\n",
    "        self.optim = Adam(self.model.parameters())\n",
    "        self.loss_fn = nn.MSELoss()\n",
    "    \n",
    "    def __call__(self, x):\n",
    "        return self.model(x)\n",
    "    \n",
    "    def fit(states, rewards):\n",
    "        self.optim.zero_grad()\n",
    "        loss = self.loss_fn(self(states), rewards)\n",
    "        loss.backward()\n",
    "        self.optim.step()\n",
    "        return loss.item()"
   ]
  },
  {
   "cell_type": "markdown",
   "metadata": {},
   "source": [
    "## Vanilla Policy Gradient"
   ]
  },
  {
   "cell_type": "code",
   "execution_count": 3,
   "metadata": {},
   "outputs": [
    {
     "name": "stderr",
     "output_type": "stream",
     "text": [
      "/home/victor/.pyenvs/base/lib/python3.8/site-packages/gym/logger.py:30: UserWarning: \u001b[33mWARN: Box bound precision lowered by casting to float32\u001b[0m\n",
      "  warnings.warn(colorize('%s: %s'%('WARN', msg % args), 'yellow'))\n"
     ]
    }
   ],
   "source": [
    "class Agent():\n",
    "    def __init__(self, env, lr=1e-2, gamma=0.999, lam=0.95, batch_size=5000):\n",
    "        self.env = env\n",
    "        self.memory = self._create_memory()\n",
    "        self.model = create_model(self.env.observation_space.shape[0], self.env.action_space.n)\n",
    "        self.value_model = ValueFunction(self.env.observation_space.shape[0])\n",
    "        self.optim = Adam(self.model.parameters(), lr=lr)\n",
    "        self.batch_size = batch_size\n",
    "        self.df = pd.DataFrame()\n",
    "        self.epoch = 0\n",
    "        self.gamma = gamma\n",
    "        self.lam = lam\n",
    "        \n",
    "    def _reset_memory(self):\n",
    "        self.memory = self._create_memory()\n",
    "    \n",
    "    @staticmethod\n",
    "    def _create_memory():\n",
    "        m = namedtuple(\"Memory\", [\"states\", \"actions\", \"rewards\", \"advantages\"])\n",
    "        for key in m._fields:\n",
    "            setattr(m, key, [])\n",
    "        return m\n",
    "    \n",
    "    def _print_memory_lens(self):\n",
    "        [print(f\"{key}: {len(getattr(self.memory, key))}\") for key in self.memory._fields]\n",
    "    \n",
    "    def loss_fn(self, states, actions, rewards):\n",
    "        log_ps = self.get_policy(states).log_prob(actions)\n",
    "        return -(log_ps * rewards).mean()\n",
    "    \n",
    "    def get_policy(self, state):\n",
    "        return Categorical(logits=self.model(state))\n",
    "    \n",
    "    def get_action(self, state):\n",
    "        return self.get_policy(state).sample().item()\n",
    "    \n",
    "    def train(self, epochs, show_every=0):\n",
    "        pbar = tqdm(range(epochs))\n",
    "        data = []\n",
    "        for epoch in pbar:\n",
    "            if show_every and epoch and not (epoch % show_every): self.play()\n",
    "            loss, returns, lens = self.train_step()\n",
    "            row = pd.Series({\n",
    "                \"epoch\": self.epoch,\n",
    "                \"loss\": loss,\n",
    "                \"min_return\": min(returns),\n",
    "                \"min_len\": min(lens),\n",
    "                \"max_return\": max(returns),\n",
    "                \"max_len\": max(lens),\n",
    "                \"avg_return\": sum(returns) / len(returns),\n",
    "                \"avg_len\": sum(lens) / len(lens),\n",
    "            })\n",
    "            self.df = self.df.append(row, ignore_index=True)\n",
    "            pbar.set_postfix(row)\n",
    "            self.epoch += 1\n",
    "        return self.df\n",
    "            \n",
    "    def play(self, fps=60):\n",
    "        state = self.env.reset()\n",
    "        done = False\n",
    "        ep_len = 0\n",
    "        total_reward = 0\n",
    "        while not done:\n",
    "            if fps: self.env.render()\n",
    "            action = self.get_action(torch.as_tensor(state, dtype=torch.float32))\n",
    "            state, reward, done, _ = self.env.step(action)\n",
    "            if fps: time.sleep(1/fps)\n",
    "            \n",
    "            total_reward += reward\n",
    "            ep_len += 1\n",
    "            \n",
    "        if fps: self.env.close()\n",
    "        return ep_len, total_reward\n",
    "    \n",
    "    def fit(self, states, actions, weights):\n",
    "        self.optim.zero_grad()\n",
    "        loss = self.loss_fn(states, actions, weights)\n",
    "        loss.backward()\n",
    "        self.optim.step()\n",
    "        return loss.item()\n",
    "    \n",
    "    def _calculate_advantage(self, rewards, values, last_value):\n",
    "        deltas = rewards[:-1] + (self.gamma * values[1:]) - values[:-1]\n",
    "        result = discount_cumsum(deltas, self.gamma * self.lam)\n",
    "        return result\n",
    "    \n",
    "    def _calculate_discounted_rewards(self, rewards, last_value):\n",
    "        rewards = np.append(rewards, last_value)\n",
    "        result = discount_cumsum(rewards, self.gamma)[:-1]\n",
    "        return result\n",
    "    \n",
    "    def train_step(self):\n",
    "        ep_lens = []\n",
    "        ep_returns = []\n",
    "        while len(self.memory.states) < self.batch_size:\n",
    "            state = self.env.reset()\n",
    "            done = False\n",
    "            ep_len = 0\n",
    "            ep_return = 0\n",
    "            ep_rewards = []\n",
    "            states = []\n",
    "            actions = []\n",
    "            values = []\n",
    "            while not done:\n",
    "                states.append(state.copy())\n",
    "                action = self.get_action(torch.as_tensor(state, dtype=torch.float32))\n",
    "                state, reward, done, _ = self.env.step(action)\n",
    "                \n",
    "                values.append(self.value_model(torch.as_tensor(state, dtype=torch.float32)).item())\n",
    "                actions.append(action)\n",
    "                ep_rewards.append(reward)\n",
    "                ep_return += reward\n",
    "                \n",
    "            last_value = values[-1] if self.env._elapsed_steps == self.env._max_episode_steps else 0\n",
    "            \n",
    "            self.memory.states += list(states)\n",
    "            self.memory.actions += list(actions)\n",
    "            \n",
    "            self.memory.rewards += list(self._calculate_discounted_rewards(np.asarray(ep_rewards), last_value).tolist())\n",
    "            \n",
    "            self.memory.advantages += list(self._calculate_advantage(\n",
    "                np.asarray(ep_rewards), \n",
    "                np.asarray(values),\n",
    "                last_value\n",
    "            ).tolist())\n",
    "            \n",
    "            ep_lens.append(self.env._elapsed_steps)\n",
    "            ep_returns.append(ep_return)\n",
    "        loss = self.fit(\n",
    "            states=torch.as_tensor(self.memory.states, dtype=torch.float32),\n",
    "            actions=torch.as_tensor(self.memory.actions, dtype=torch.int32),\n",
    "            weights=torch.as_tensor(self.memory.rewards, dtype=torch.float32)\n",
    "        )\n",
    "        \n",
    "        self._reset_memory()\n",
    "        return loss, ep_returns, ep_lens\n",
    "    \n",
    "a = Agent(gym.make(\"CartPole-v0\"))"
   ]
  },
  {
   "cell_type": "markdown",
   "metadata": {},
   "source": [
    "## TODO ##\n",
    "* Fit Model by advantage function\n",
    "* Fit Value Function"
   ]
  },
  {
   "cell_type": "code",
   "execution_count": 4,
   "metadata": {},
   "outputs": [
    {
     "data": {
      "application/vnd.jupyter.widget-view+json": {
       "model_id": "dfb27331236a42c5bba6e09bd2c91576",
       "version_major": 2,
       "version_minor": 0
      },
      "text/plain": [
       "HBox(children=(FloatProgress(value=0.0, max=90.0), HTML(value='')))"
      ]
     },
     "metadata": {},
     "output_type": "display_data"
    },
    {
     "name": "stdout",
     "output_type": "stream",
     "text": [
      "\n"
     ]
    }
   ],
   "source": [
    "results = a.train(90, show_every=15)"
   ]
  },
  {
   "cell_type": "code",
   "execution_count": 5,
   "metadata": {},
   "outputs": [
    {
     "data": {
      "text/html": [
       "\n",
       "<div id=\"altair-viz-40f2176b828642d08c30e99b1b73b51d\"></div>\n",
       "<script type=\"text/javascript\">\n",
       "  (function(spec, embedOpt){\n",
       "    let outputDiv = document.currentScript.previousElementSibling;\n",
       "    if (outputDiv.id !== \"altair-viz-40f2176b828642d08c30e99b1b73b51d\") {\n",
       "      outputDiv = document.getElementById(\"altair-viz-40f2176b828642d08c30e99b1b73b51d\");\n",
       "    }\n",
       "    const paths = {\n",
       "      \"vega\": \"https://cdn.jsdelivr.net/npm//vega@5?noext\",\n",
       "      \"vega-lib\": \"https://cdn.jsdelivr.net/npm//vega-lib?noext\",\n",
       "      \"vega-lite\": \"https://cdn.jsdelivr.net/npm//vega-lite@4.8.1?noext\",\n",
       "      \"vega-embed\": \"https://cdn.jsdelivr.net/npm//vega-embed@6?noext\",\n",
       "    };\n",
       "\n",
       "    function loadScript(lib) {\n",
       "      return new Promise(function(resolve, reject) {\n",
       "        var s = document.createElement('script');\n",
       "        s.src = paths[lib];\n",
       "        s.async = true;\n",
       "        s.onload = () => resolve(paths[lib]);\n",
       "        s.onerror = () => reject(`Error loading script: ${paths[lib]}`);\n",
       "        document.getElementsByTagName(\"head\")[0].appendChild(s);\n",
       "      });\n",
       "    }\n",
       "\n",
       "    function showError(err) {\n",
       "      outputDiv.innerHTML = `<div class=\"error\" style=\"color:red;\">${err}</div>`;\n",
       "      throw err;\n",
       "    }\n",
       "\n",
       "    function displayChart(vegaEmbed) {\n",
       "      vegaEmbed(outputDiv, spec, embedOpt)\n",
       "        .catch(err => showError(`Javascript Error: ${err.message}<br>This usually means there's a typo in your chart specification. See the javascript console for the full traceback.`));\n",
       "    }\n",
       "\n",
       "    if(typeof define === \"function\" && define.amd) {\n",
       "      requirejs.config({paths});\n",
       "      require([\"vega-embed\"], displayChart, err => showError(`Error loading script: ${err.message}`));\n",
       "    } else if (typeof vegaEmbed === \"function\") {\n",
       "      displayChart(vegaEmbed);\n",
       "    } else {\n",
       "      loadScript(\"vega\")\n",
       "        .then(() => loadScript(\"vega-lite\"))\n",
       "        .then(() => loadScript(\"vega-embed\"))\n",
       "        .catch(showError)\n",
       "        .then(() => displayChart(vegaEmbed));\n",
       "    }\n",
       "  })({\"config\": {\"view\": {\"continuousWidth\": 400, \"continuousHeight\": 300}}, \"layer\": [{\"mark\": \"line\", \"encoding\": {\"color\": {\"type\": \"nominal\", \"field\": \"type\"}, \"x\": {\"type\": \"quantitative\", \"field\": \"epoch\"}, \"y\": {\"type\": \"quantitative\", \"field\": \"value\"}}}, {\"mark\": {\"type\": \"area\", \"color\": \"blue\", \"opacity\": 0.3}, \"encoding\": {\"x\": {\"type\": \"quantitative\", \"field\": \"epoch\"}, \"y\": {\"type\": \"quantitative\", \"field\": \"min_return\"}, \"y2\": {\"field\": \"max_return\"}}}], \"data\": {\"name\": \"data-b8f0efa1ed49e06ec73a6318be96171b\"}, \"$schema\": \"https://vega.github.io/schema/vega-lite/v4.8.1.json\", \"datasets\": {\"data-b8f0efa1ed49e06ec73a6318be96171b\": [{\"epoch\": 0.0, \"min_return\": 9.0, \"max_return\": 103.0, \"min_len\": 9.0, \"max_len\": 103.0, \"type\": \"avg_len\", \"value\": 23.05045871559633}, {\"epoch\": 1.0, \"min_return\": 9.0, \"max_return\": 93.0, \"min_len\": 9.0, \"max_len\": 93.0, \"type\": \"avg_len\", \"value\": 23.701421800947866}, {\"epoch\": 2.0, \"min_return\": 9.0, \"max_return\": 80.0, \"min_len\": 9.0, \"max_len\": 80.0, \"type\": \"avg_len\", \"value\": 22.07017543859649}, {\"epoch\": 3.0, \"min_return\": 10.0, \"max_return\": 98.0, \"min_len\": 10.0, \"max_len\": 98.0, \"type\": \"avg_len\", \"value\": 23.985645933014354}, {\"epoch\": 4.0, \"min_return\": 9.0, \"max_return\": 66.0, \"min_len\": 9.0, \"max_len\": 66.0, \"type\": \"avg_len\", \"value\": 25.73846153846154}, {\"epoch\": 5.0, \"min_return\": 9.0, \"max_return\": 82.0, \"min_len\": 9.0, \"max_len\": 82.0, \"type\": \"avg_len\", \"value\": 24.91044776119403}, {\"epoch\": 6.0, \"min_return\": 10.0, \"max_return\": 165.0, \"min_len\": 10.0, \"max_len\": 165.0, \"type\": \"avg_len\", \"value\": 27.48633879781421}, {\"epoch\": 7.0, \"min_return\": 9.0, \"max_return\": 118.0, \"min_len\": 9.0, \"max_len\": 118.0, \"type\": \"avg_len\", \"value\": 28.731428571428573}, {\"epoch\": 8.0, \"min_return\": 9.0, \"max_return\": 121.0, \"min_len\": 9.0, \"max_len\": 121.0, \"type\": \"avg_len\", \"value\": 29.851190476190474}, {\"epoch\": 9.0, \"min_return\": 10.0, \"max_return\": 130.0, \"min_len\": 10.0, \"max_len\": 130.0, \"type\": \"avg_len\", \"value\": 29.892857142857142}, {\"epoch\": 10.0, \"min_return\": 10.0, \"max_return\": 104.0, \"min_len\": 10.0, \"max_len\": 104.0, \"type\": \"avg_len\", \"value\": 32.94117647058823}, {\"epoch\": 11.0, \"min_return\": 9.0, \"max_return\": 107.0, \"min_len\": 9.0, \"max_len\": 107.0, \"type\": \"avg_len\", \"value\": 31.96815286624204}, {\"epoch\": 12.0, \"min_return\": 10.0, \"max_return\": 114.0, \"min_len\": 10.0, \"max_len\": 114.0, \"type\": \"avg_len\", \"value\": 34.363013698630134}, {\"epoch\": 13.0, \"min_return\": 10.0, \"max_return\": 156.0, \"min_len\": 10.0, \"max_len\": 156.0, \"type\": \"avg_len\", \"value\": 36.405797101449274}, {\"epoch\": 14.0, \"min_return\": 9.0, \"max_return\": 94.0, \"min_len\": 9.0, \"max_len\": 94.0, \"type\": \"avg_len\", \"value\": 37.343283582089555}, {\"epoch\": 15.0, \"min_return\": 10.0, \"max_return\": 115.0, \"min_len\": 10.0, \"max_len\": 115.0, \"type\": \"avg_len\", \"value\": 40.666666666666664}, {\"epoch\": 16.0, \"min_return\": 9.0, \"max_return\": 118.0, \"min_len\": 9.0, \"max_len\": 118.0, \"type\": \"avg_len\", \"value\": 37.69172932330827}, {\"epoch\": 17.0, \"min_return\": 11.0, \"max_return\": 116.0, \"min_len\": 11.0, \"max_len\": 116.0, \"type\": \"avg_len\", \"value\": 46.14545454545455}, {\"epoch\": 18.0, \"min_return\": 11.0, \"max_return\": 113.0, \"min_len\": 11.0, \"max_len\": 113.0, \"type\": \"avg_len\", \"value\": 43.35344827586207}, {\"epoch\": 19.0, \"min_return\": 17.0, \"max_return\": 165.0, \"min_len\": 17.0, \"max_len\": 165.0, \"type\": \"avg_len\", \"value\": 48.47115384615385}, {\"epoch\": 20.0, \"min_return\": 12.0, \"max_return\": 119.0, \"min_len\": 12.0, \"max_len\": 119.0, \"type\": \"avg_len\", \"value\": 52.123711340206185}, {\"epoch\": 21.0, \"min_return\": 14.0, \"max_return\": 168.0, \"min_len\": 14.0, \"max_len\": 168.0, \"type\": \"avg_len\", \"value\": 58.94117647058823}, {\"epoch\": 22.0, \"min_return\": 12.0, \"max_return\": 131.0, \"min_len\": 12.0, \"max_len\": 131.0, \"type\": \"avg_len\", \"value\": 52.103092783505154}, {\"epoch\": 23.0, \"min_return\": 17.0, \"max_return\": 157.0, \"min_len\": 17.0, \"max_len\": 157.0, \"type\": \"avg_len\", \"value\": 64.66666666666667}, {\"epoch\": 24.0, \"min_return\": 16.0, \"max_return\": 175.0, \"min_len\": 16.0, \"max_len\": 175.0, \"type\": \"avg_len\", \"value\": 66.46052631578948}, {\"epoch\": 25.0, \"min_return\": 16.0, \"max_return\": 200.0, \"min_len\": 16.0, \"max_len\": 200.0, \"type\": \"avg_len\", \"value\": 65.76623376623377}, {\"epoch\": 26.0, \"min_return\": 15.0, \"max_return\": 192.0, \"min_len\": 15.0, \"max_len\": 192.0, \"type\": \"avg_len\", \"value\": 74.20289855072464}, {\"epoch\": 27.0, \"min_return\": 23.0, \"max_return\": 181.0, \"min_len\": 23.0, \"max_len\": 181.0, \"type\": \"avg_len\", \"value\": 75.7910447761194}, {\"epoch\": 28.0, \"min_return\": 21.0, \"max_return\": 177.0, \"min_len\": 21.0, \"max_len\": 177.0, \"type\": \"avg_len\", \"value\": 74.23529411764706}, {\"epoch\": 29.0, \"min_return\": 29.0, \"max_return\": 200.0, \"min_len\": 29.0, \"max_len\": 200.0, \"type\": \"avg_len\", \"value\": 82.44262295081967}, {\"epoch\": 30.0, \"min_return\": 27.0, \"max_return\": 200.0, \"min_len\": 27.0, \"max_len\": 200.0, \"type\": \"avg_len\", \"value\": 97.84615384615384}, {\"epoch\": 31.0, \"min_return\": 27.0, \"max_return\": 200.0, \"min_len\": 27.0, \"max_len\": 200.0, \"type\": \"avg_len\", \"value\": 108.73913043478261}, {\"epoch\": 32.0, \"min_return\": 27.0, \"max_return\": 200.0, \"min_len\": 27.0, \"max_len\": 200.0, \"type\": \"avg_len\", \"value\": 129.74358974358975}, {\"epoch\": 33.0, \"min_return\": 21.0, \"max_return\": 200.0, \"min_len\": 21.0, \"max_len\": 200.0, \"type\": \"avg_len\", \"value\": 137.56756756756758}, {\"epoch\": 34.0, \"min_return\": 34.0, \"max_return\": 200.0, \"min_len\": 34.0, \"max_len\": 200.0, \"type\": \"avg_len\", \"value\": 148.2}, {\"epoch\": 35.0, \"min_return\": 20.0, \"max_return\": 200.0, \"min_len\": 20.0, \"max_len\": 200.0, \"type\": \"avg_len\", \"value\": 152.96969696969697}, {\"epoch\": 36.0, \"min_return\": 57.0, \"max_return\": 200.0, \"min_len\": 57.0, \"max_len\": 200.0, \"type\": \"avg_len\", \"value\": 153.54545454545453}, {\"epoch\": 37.0, \"min_return\": 71.0, \"max_return\": 200.0, \"min_len\": 71.0, \"max_len\": 200.0, \"type\": \"avg_len\", \"value\": 162.7741935483871}, {\"epoch\": 38.0, \"min_return\": 82.0, \"max_return\": 200.0, \"min_len\": 82.0, \"max_len\": 200.0, \"type\": \"avg_len\", \"value\": 162.93548387096774}, {\"epoch\": 39.0, \"min_return\": 76.0, \"max_return\": 200.0, \"min_len\": 76.0, \"max_len\": 200.0, \"type\": \"avg_len\", \"value\": 167.33333333333334}, {\"epoch\": 40.0, \"min_return\": 77.0, \"max_return\": 200.0, \"min_len\": 77.0, \"max_len\": 200.0, \"type\": \"avg_len\", \"value\": 170.3}, {\"epoch\": 41.0, \"min_return\": 95.0, \"max_return\": 200.0, \"min_len\": 95.0, \"max_len\": 200.0, \"type\": \"avg_len\", \"value\": 174.93103448275863}, {\"epoch\": 42.0, \"min_return\": 129.0, \"max_return\": 200.0, \"min_len\": 129.0, \"max_len\": 200.0, \"type\": \"avg_len\", \"value\": 192.8846153846154}, {\"epoch\": 43.0, \"min_return\": 92.0, \"max_return\": 200.0, \"min_len\": 92.0, \"max_len\": 200.0, \"type\": \"avg_len\", \"value\": 183.78571428571428}, {\"epoch\": 44.0, \"min_return\": 52.0, \"max_return\": 200.0, \"min_len\": 52.0, \"max_len\": 200.0, \"type\": \"avg_len\", \"value\": 187.22222222222223}, {\"epoch\": 45.0, \"min_return\": 87.0, \"max_return\": 200.0, \"min_len\": 87.0, \"max_len\": 200.0, \"type\": \"avg_len\", \"value\": 192.11111111111111}, {\"epoch\": 46.0, \"min_return\": 100.0, \"max_return\": 200.0, \"min_len\": 100.0, \"max_len\": 200.0, \"type\": \"avg_len\", \"value\": 193.0}, {\"epoch\": 47.0, \"min_return\": 93.0, \"max_return\": 200.0, \"min_len\": 93.0, \"max_len\": 200.0, \"type\": \"avg_len\", \"value\": 192.96153846153845}, {\"epoch\": 48.0, \"min_return\": 168.0, \"max_return\": 200.0, \"min_len\": 168.0, \"max_len\": 200.0, \"type\": \"avg_len\", \"value\": 197.6153846153846}, {\"epoch\": 49.0, \"min_return\": 149.0, \"max_return\": 200.0, \"min_len\": 149.0, \"max_len\": 200.0, \"type\": \"avg_len\", \"value\": 198.0}, {\"epoch\": 50.0, \"min_return\": 138.0, \"max_return\": 200.0, \"min_len\": 138.0, \"max_len\": 200.0, \"type\": \"avg_len\", \"value\": 195.6153846153846}, {\"epoch\": 51.0, \"min_return\": 147.0, \"max_return\": 200.0, \"min_len\": 147.0, \"max_len\": 200.0, \"type\": \"avg_len\", \"value\": 194.34615384615384}, {\"epoch\": 52.0, \"min_return\": 171.0, \"max_return\": 200.0, \"min_len\": 171.0, \"max_len\": 200.0, \"type\": \"avg_len\", \"value\": 198.42307692307693}, {\"epoch\": 53.0, \"min_return\": 164.0, \"max_return\": 200.0, \"min_len\": 164.0, \"max_len\": 200.0, \"type\": \"avg_len\", \"value\": 198.15384615384616}, {\"epoch\": 54.0, \"min_return\": 116.0, \"max_return\": 200.0, \"min_len\": 116.0, \"max_len\": 200.0, \"type\": \"avg_len\", \"value\": 195.34615384615384}, {\"epoch\": 55.0, \"min_return\": 121.0, \"max_return\": 200.0, \"min_len\": 121.0, \"max_len\": 200.0, \"type\": \"avg_len\", \"value\": 194.69230769230768}, {\"epoch\": 56.0, \"min_return\": 134.0, \"max_return\": 200.0, \"min_len\": 134.0, \"max_len\": 200.0, \"type\": \"avg_len\", \"value\": 186.33333333333334}, {\"epoch\": 57.0, \"min_return\": 139.0, \"max_return\": 200.0, \"min_len\": 139.0, \"max_len\": 200.0, \"type\": \"avg_len\", \"value\": 190.5185185185185}, {\"epoch\": 58.0, \"min_return\": 135.0, \"max_return\": 200.0, \"min_len\": 135.0, \"max_len\": 200.0, \"type\": \"avg_len\", \"value\": 192.69230769230768}, {\"epoch\": 59.0, \"min_return\": 124.0, \"max_return\": 200.0, \"min_len\": 124.0, \"max_len\": 200.0, \"type\": \"avg_len\", \"value\": 192.44444444444446}, {\"epoch\": 60.0, \"min_return\": 122.0, \"max_return\": 200.0, \"min_len\": 122.0, \"max_len\": 200.0, \"type\": \"avg_len\", \"value\": 193.6153846153846}, {\"epoch\": 61.0, \"min_return\": 153.0, \"max_return\": 200.0, \"min_len\": 153.0, \"max_len\": 200.0, \"type\": \"avg_len\", \"value\": 196.80769230769232}, {\"epoch\": 62.0, \"min_return\": 144.0, \"max_return\": 200.0, \"min_len\": 144.0, \"max_len\": 200.0, \"type\": \"avg_len\", \"value\": 197.07692307692307}, {\"epoch\": 63.0, \"min_return\": 177.0, \"max_return\": 200.0, \"min_len\": 177.0, \"max_len\": 200.0, \"type\": \"avg_len\", \"value\": 198.23076923076923}, {\"epoch\": 64.0, \"min_return\": 165.0, \"max_return\": 200.0, \"min_len\": 165.0, \"max_len\": 200.0, \"type\": \"avg_len\", \"value\": 198.65384615384616}, {\"epoch\": 65.0, \"min_return\": 200.0, \"max_return\": 200.0, \"min_len\": 200.0, \"max_len\": 200.0, \"type\": \"avg_len\", \"value\": 200.0}, {\"epoch\": 66.0, \"min_return\": 200.0, \"max_return\": 200.0, \"min_len\": 200.0, \"max_len\": 200.0, \"type\": \"avg_len\", \"value\": 200.0}, {\"epoch\": 67.0, \"min_return\": 200.0, \"max_return\": 200.0, \"min_len\": 200.0, \"max_len\": 200.0, \"type\": \"avg_len\", \"value\": 200.0}, {\"epoch\": 68.0, \"min_return\": 154.0, \"max_return\": 200.0, \"min_len\": 154.0, \"max_len\": 200.0, \"type\": \"avg_len\", \"value\": 198.23076923076923}, {\"epoch\": 69.0, \"min_return\": 175.0, \"max_return\": 200.0, \"min_len\": 175.0, \"max_len\": 200.0, \"type\": \"avg_len\", \"value\": 199.03846153846155}, {\"epoch\": 70.0, \"min_return\": 172.0, \"max_return\": 200.0, \"min_len\": 172.0, \"max_len\": 200.0, \"type\": \"avg_len\", \"value\": 198.92307692307693}, {\"epoch\": 71.0, \"min_return\": 200.0, \"max_return\": 200.0, \"min_len\": 200.0, \"max_len\": 200.0, \"type\": \"avg_len\", \"value\": 200.0}, {\"epoch\": 72.0, \"min_return\": 200.0, \"max_return\": 200.0, \"min_len\": 200.0, \"max_len\": 200.0, \"type\": \"avg_len\", \"value\": 200.0}, {\"epoch\": 73.0, \"min_return\": 200.0, \"max_return\": 200.0, \"min_len\": 200.0, \"max_len\": 200.0, \"type\": \"avg_len\", \"value\": 200.0}, {\"epoch\": 74.0, \"min_return\": 200.0, \"max_return\": 200.0, \"min_len\": 200.0, \"max_len\": 200.0, \"type\": \"avg_len\", \"value\": 200.0}, {\"epoch\": 75.0, \"min_return\": 200.0, \"max_return\": 200.0, \"min_len\": 200.0, \"max_len\": 200.0, \"type\": \"avg_len\", \"value\": 200.0}, {\"epoch\": 76.0, \"min_return\": 200.0, \"max_return\": 200.0, \"min_len\": 200.0, \"max_len\": 200.0, \"type\": \"avg_len\", \"value\": 200.0}, {\"epoch\": 77.0, \"min_return\": 194.0, \"max_return\": 200.0, \"min_len\": 194.0, \"max_len\": 200.0, \"type\": \"avg_len\", \"value\": 199.76923076923077}, {\"epoch\": 78.0, \"min_return\": 200.0, \"max_return\": 200.0, \"min_len\": 200.0, \"max_len\": 200.0, \"type\": \"avg_len\", \"value\": 200.0}, {\"epoch\": 79.0, \"min_return\": 200.0, \"max_return\": 200.0, \"min_len\": 200.0, \"max_len\": 200.0, \"type\": \"avg_len\", \"value\": 200.0}, {\"epoch\": 80.0, \"min_return\": 200.0, \"max_return\": 200.0, \"min_len\": 200.0, \"max_len\": 200.0, \"type\": \"avg_len\", \"value\": 200.0}, {\"epoch\": 81.0, \"min_return\": 200.0, \"max_return\": 200.0, \"min_len\": 200.0, \"max_len\": 200.0, \"type\": \"avg_len\", \"value\": 200.0}, {\"epoch\": 82.0, \"min_return\": 187.0, \"max_return\": 200.0, \"min_len\": 187.0, \"max_len\": 200.0, \"type\": \"avg_len\", \"value\": 199.5}, {\"epoch\": 83.0, \"min_return\": 200.0, \"max_return\": 200.0, \"min_len\": 200.0, \"max_len\": 200.0, \"type\": \"avg_len\", \"value\": 200.0}, {\"epoch\": 84.0, \"min_return\": 130.0, \"max_return\": 200.0, \"min_len\": 130.0, \"max_len\": 200.0, \"type\": \"avg_len\", \"value\": 194.8846153846154}, {\"epoch\": 85.0, \"min_return\": 159.0, \"max_return\": 200.0, \"min_len\": 159.0, \"max_len\": 200.0, \"type\": \"avg_len\", \"value\": 197.03846153846155}, {\"epoch\": 86.0, \"min_return\": 120.0, \"max_return\": 200.0, \"min_len\": 120.0, \"max_len\": 200.0, \"type\": \"avg_len\", \"value\": 189.4814814814815}, {\"epoch\": 87.0, \"min_return\": 146.0, \"max_return\": 200.0, \"min_len\": 146.0, \"max_len\": 200.0, \"type\": \"avg_len\", \"value\": 194.30769230769232}, {\"epoch\": 88.0, \"min_return\": 188.0, \"max_return\": 200.0, \"min_len\": 188.0, \"max_len\": 200.0, \"type\": \"avg_len\", \"value\": 199.53846153846155}, {\"epoch\": 89.0, \"min_return\": 152.0, \"max_return\": 200.0, \"min_len\": 152.0, \"max_len\": 200.0, \"type\": \"avg_len\", \"value\": 198.15384615384616}, {\"epoch\": 0.0, \"min_return\": 9.0, \"max_return\": 103.0, \"min_len\": 9.0, \"max_len\": 103.0, \"type\": \"avg_return\", \"value\": 23.05045871559633}, {\"epoch\": 1.0, \"min_return\": 9.0, \"max_return\": 93.0, \"min_len\": 9.0, \"max_len\": 93.0, \"type\": \"avg_return\", \"value\": 23.701421800947866}, {\"epoch\": 2.0, \"min_return\": 9.0, \"max_return\": 80.0, \"min_len\": 9.0, \"max_len\": 80.0, \"type\": \"avg_return\", \"value\": 22.07017543859649}, {\"epoch\": 3.0, \"min_return\": 10.0, \"max_return\": 98.0, \"min_len\": 10.0, \"max_len\": 98.0, \"type\": \"avg_return\", \"value\": 23.985645933014354}, {\"epoch\": 4.0, \"min_return\": 9.0, \"max_return\": 66.0, \"min_len\": 9.0, \"max_len\": 66.0, \"type\": \"avg_return\", \"value\": 25.73846153846154}, {\"epoch\": 5.0, \"min_return\": 9.0, \"max_return\": 82.0, \"min_len\": 9.0, \"max_len\": 82.0, \"type\": \"avg_return\", \"value\": 24.91044776119403}, {\"epoch\": 6.0, \"min_return\": 10.0, \"max_return\": 165.0, \"min_len\": 10.0, \"max_len\": 165.0, \"type\": \"avg_return\", \"value\": 27.48633879781421}, {\"epoch\": 7.0, \"min_return\": 9.0, \"max_return\": 118.0, \"min_len\": 9.0, \"max_len\": 118.0, \"type\": \"avg_return\", \"value\": 28.731428571428573}, {\"epoch\": 8.0, \"min_return\": 9.0, \"max_return\": 121.0, \"min_len\": 9.0, \"max_len\": 121.0, \"type\": \"avg_return\", \"value\": 29.851190476190474}, {\"epoch\": 9.0, \"min_return\": 10.0, \"max_return\": 130.0, \"min_len\": 10.0, \"max_len\": 130.0, \"type\": \"avg_return\", \"value\": 29.892857142857142}, {\"epoch\": 10.0, \"min_return\": 10.0, \"max_return\": 104.0, \"min_len\": 10.0, \"max_len\": 104.0, \"type\": \"avg_return\", \"value\": 32.94117647058823}, {\"epoch\": 11.0, \"min_return\": 9.0, \"max_return\": 107.0, \"min_len\": 9.0, \"max_len\": 107.0, \"type\": \"avg_return\", \"value\": 31.96815286624204}, {\"epoch\": 12.0, \"min_return\": 10.0, \"max_return\": 114.0, \"min_len\": 10.0, \"max_len\": 114.0, \"type\": \"avg_return\", \"value\": 34.363013698630134}, {\"epoch\": 13.0, \"min_return\": 10.0, \"max_return\": 156.0, \"min_len\": 10.0, \"max_len\": 156.0, \"type\": \"avg_return\", \"value\": 36.405797101449274}, {\"epoch\": 14.0, \"min_return\": 9.0, \"max_return\": 94.0, \"min_len\": 9.0, \"max_len\": 94.0, \"type\": \"avg_return\", \"value\": 37.343283582089555}, {\"epoch\": 15.0, \"min_return\": 10.0, \"max_return\": 115.0, \"min_len\": 10.0, \"max_len\": 115.0, \"type\": \"avg_return\", \"value\": 40.666666666666664}, {\"epoch\": 16.0, \"min_return\": 9.0, \"max_return\": 118.0, \"min_len\": 9.0, \"max_len\": 118.0, \"type\": \"avg_return\", \"value\": 37.69172932330827}, {\"epoch\": 17.0, \"min_return\": 11.0, \"max_return\": 116.0, \"min_len\": 11.0, \"max_len\": 116.0, \"type\": \"avg_return\", \"value\": 46.14545454545455}, {\"epoch\": 18.0, \"min_return\": 11.0, \"max_return\": 113.0, \"min_len\": 11.0, \"max_len\": 113.0, \"type\": \"avg_return\", \"value\": 43.35344827586207}, {\"epoch\": 19.0, \"min_return\": 17.0, \"max_return\": 165.0, \"min_len\": 17.0, \"max_len\": 165.0, \"type\": \"avg_return\", \"value\": 48.47115384615385}, {\"epoch\": 20.0, \"min_return\": 12.0, \"max_return\": 119.0, \"min_len\": 12.0, \"max_len\": 119.0, \"type\": \"avg_return\", \"value\": 52.123711340206185}, {\"epoch\": 21.0, \"min_return\": 14.0, \"max_return\": 168.0, \"min_len\": 14.0, \"max_len\": 168.0, \"type\": \"avg_return\", \"value\": 58.94117647058823}, {\"epoch\": 22.0, \"min_return\": 12.0, \"max_return\": 131.0, \"min_len\": 12.0, \"max_len\": 131.0, \"type\": \"avg_return\", \"value\": 52.103092783505154}, {\"epoch\": 23.0, \"min_return\": 17.0, \"max_return\": 157.0, \"min_len\": 17.0, \"max_len\": 157.0, \"type\": \"avg_return\", \"value\": 64.66666666666667}, {\"epoch\": 24.0, \"min_return\": 16.0, \"max_return\": 175.0, \"min_len\": 16.0, \"max_len\": 175.0, \"type\": \"avg_return\", \"value\": 66.46052631578948}, {\"epoch\": 25.0, \"min_return\": 16.0, \"max_return\": 200.0, \"min_len\": 16.0, \"max_len\": 200.0, \"type\": \"avg_return\", \"value\": 65.76623376623377}, {\"epoch\": 26.0, \"min_return\": 15.0, \"max_return\": 192.0, \"min_len\": 15.0, \"max_len\": 192.0, \"type\": \"avg_return\", \"value\": 74.20289855072464}, {\"epoch\": 27.0, \"min_return\": 23.0, \"max_return\": 181.0, \"min_len\": 23.0, \"max_len\": 181.0, \"type\": \"avg_return\", \"value\": 75.7910447761194}, {\"epoch\": 28.0, \"min_return\": 21.0, \"max_return\": 177.0, \"min_len\": 21.0, \"max_len\": 177.0, \"type\": \"avg_return\", \"value\": 74.23529411764706}, {\"epoch\": 29.0, \"min_return\": 29.0, \"max_return\": 200.0, \"min_len\": 29.0, \"max_len\": 200.0, \"type\": \"avg_return\", \"value\": 82.44262295081967}, {\"epoch\": 30.0, \"min_return\": 27.0, \"max_return\": 200.0, \"min_len\": 27.0, \"max_len\": 200.0, \"type\": \"avg_return\", \"value\": 97.84615384615384}, {\"epoch\": 31.0, \"min_return\": 27.0, \"max_return\": 200.0, \"min_len\": 27.0, \"max_len\": 200.0, \"type\": \"avg_return\", \"value\": 108.73913043478261}, {\"epoch\": 32.0, \"min_return\": 27.0, \"max_return\": 200.0, \"min_len\": 27.0, \"max_len\": 200.0, \"type\": \"avg_return\", \"value\": 129.74358974358975}, {\"epoch\": 33.0, \"min_return\": 21.0, \"max_return\": 200.0, \"min_len\": 21.0, \"max_len\": 200.0, \"type\": \"avg_return\", \"value\": 137.56756756756758}, {\"epoch\": 34.0, \"min_return\": 34.0, \"max_return\": 200.0, \"min_len\": 34.0, \"max_len\": 200.0, \"type\": \"avg_return\", \"value\": 148.2}, {\"epoch\": 35.0, \"min_return\": 20.0, \"max_return\": 200.0, \"min_len\": 20.0, \"max_len\": 200.0, \"type\": \"avg_return\", \"value\": 152.96969696969697}, {\"epoch\": 36.0, \"min_return\": 57.0, \"max_return\": 200.0, \"min_len\": 57.0, \"max_len\": 200.0, \"type\": \"avg_return\", \"value\": 153.54545454545453}, {\"epoch\": 37.0, \"min_return\": 71.0, \"max_return\": 200.0, \"min_len\": 71.0, \"max_len\": 200.0, \"type\": \"avg_return\", \"value\": 162.7741935483871}, {\"epoch\": 38.0, \"min_return\": 82.0, \"max_return\": 200.0, \"min_len\": 82.0, \"max_len\": 200.0, \"type\": \"avg_return\", \"value\": 162.93548387096774}, {\"epoch\": 39.0, \"min_return\": 76.0, \"max_return\": 200.0, \"min_len\": 76.0, \"max_len\": 200.0, \"type\": \"avg_return\", \"value\": 167.33333333333334}, {\"epoch\": 40.0, \"min_return\": 77.0, \"max_return\": 200.0, \"min_len\": 77.0, \"max_len\": 200.0, \"type\": \"avg_return\", \"value\": 170.3}, {\"epoch\": 41.0, \"min_return\": 95.0, \"max_return\": 200.0, \"min_len\": 95.0, \"max_len\": 200.0, \"type\": \"avg_return\", \"value\": 174.93103448275863}, {\"epoch\": 42.0, \"min_return\": 129.0, \"max_return\": 200.0, \"min_len\": 129.0, \"max_len\": 200.0, \"type\": \"avg_return\", \"value\": 192.8846153846154}, {\"epoch\": 43.0, \"min_return\": 92.0, \"max_return\": 200.0, \"min_len\": 92.0, \"max_len\": 200.0, \"type\": \"avg_return\", \"value\": 183.78571428571428}, {\"epoch\": 44.0, \"min_return\": 52.0, \"max_return\": 200.0, \"min_len\": 52.0, \"max_len\": 200.0, \"type\": \"avg_return\", \"value\": 187.22222222222223}, {\"epoch\": 45.0, \"min_return\": 87.0, \"max_return\": 200.0, \"min_len\": 87.0, \"max_len\": 200.0, \"type\": \"avg_return\", \"value\": 192.11111111111111}, {\"epoch\": 46.0, \"min_return\": 100.0, \"max_return\": 200.0, \"min_len\": 100.0, \"max_len\": 200.0, \"type\": \"avg_return\", \"value\": 193.0}, {\"epoch\": 47.0, \"min_return\": 93.0, \"max_return\": 200.0, \"min_len\": 93.0, \"max_len\": 200.0, \"type\": \"avg_return\", \"value\": 192.96153846153845}, {\"epoch\": 48.0, \"min_return\": 168.0, \"max_return\": 200.0, \"min_len\": 168.0, \"max_len\": 200.0, \"type\": \"avg_return\", \"value\": 197.6153846153846}, {\"epoch\": 49.0, \"min_return\": 149.0, \"max_return\": 200.0, \"min_len\": 149.0, \"max_len\": 200.0, \"type\": \"avg_return\", \"value\": 198.0}, {\"epoch\": 50.0, \"min_return\": 138.0, \"max_return\": 200.0, \"min_len\": 138.0, \"max_len\": 200.0, \"type\": \"avg_return\", \"value\": 195.6153846153846}, {\"epoch\": 51.0, \"min_return\": 147.0, \"max_return\": 200.0, \"min_len\": 147.0, \"max_len\": 200.0, \"type\": \"avg_return\", \"value\": 194.34615384615384}, {\"epoch\": 52.0, \"min_return\": 171.0, \"max_return\": 200.0, \"min_len\": 171.0, \"max_len\": 200.0, \"type\": \"avg_return\", \"value\": 198.42307692307693}, {\"epoch\": 53.0, \"min_return\": 164.0, \"max_return\": 200.0, \"min_len\": 164.0, \"max_len\": 200.0, \"type\": \"avg_return\", \"value\": 198.15384615384616}, {\"epoch\": 54.0, \"min_return\": 116.0, \"max_return\": 200.0, \"min_len\": 116.0, \"max_len\": 200.0, \"type\": \"avg_return\", \"value\": 195.34615384615384}, {\"epoch\": 55.0, \"min_return\": 121.0, \"max_return\": 200.0, \"min_len\": 121.0, \"max_len\": 200.0, \"type\": \"avg_return\", \"value\": 194.69230769230768}, {\"epoch\": 56.0, \"min_return\": 134.0, \"max_return\": 200.0, \"min_len\": 134.0, \"max_len\": 200.0, \"type\": \"avg_return\", \"value\": 186.33333333333334}, {\"epoch\": 57.0, \"min_return\": 139.0, \"max_return\": 200.0, \"min_len\": 139.0, \"max_len\": 200.0, \"type\": \"avg_return\", \"value\": 190.5185185185185}, {\"epoch\": 58.0, \"min_return\": 135.0, \"max_return\": 200.0, \"min_len\": 135.0, \"max_len\": 200.0, \"type\": \"avg_return\", \"value\": 192.69230769230768}, {\"epoch\": 59.0, \"min_return\": 124.0, \"max_return\": 200.0, \"min_len\": 124.0, \"max_len\": 200.0, \"type\": \"avg_return\", \"value\": 192.44444444444446}, {\"epoch\": 60.0, \"min_return\": 122.0, \"max_return\": 200.0, \"min_len\": 122.0, \"max_len\": 200.0, \"type\": \"avg_return\", \"value\": 193.6153846153846}, {\"epoch\": 61.0, \"min_return\": 153.0, \"max_return\": 200.0, \"min_len\": 153.0, \"max_len\": 200.0, \"type\": \"avg_return\", \"value\": 196.80769230769232}, {\"epoch\": 62.0, \"min_return\": 144.0, \"max_return\": 200.0, \"min_len\": 144.0, \"max_len\": 200.0, \"type\": \"avg_return\", \"value\": 197.07692307692307}, {\"epoch\": 63.0, \"min_return\": 177.0, \"max_return\": 200.0, \"min_len\": 177.0, \"max_len\": 200.0, \"type\": \"avg_return\", \"value\": 198.23076923076923}, {\"epoch\": 64.0, \"min_return\": 165.0, \"max_return\": 200.0, \"min_len\": 165.0, \"max_len\": 200.0, \"type\": \"avg_return\", \"value\": 198.65384615384616}, {\"epoch\": 65.0, \"min_return\": 200.0, \"max_return\": 200.0, \"min_len\": 200.0, \"max_len\": 200.0, \"type\": \"avg_return\", \"value\": 200.0}, {\"epoch\": 66.0, \"min_return\": 200.0, \"max_return\": 200.0, \"min_len\": 200.0, \"max_len\": 200.0, \"type\": \"avg_return\", \"value\": 200.0}, {\"epoch\": 67.0, \"min_return\": 200.0, \"max_return\": 200.0, \"min_len\": 200.0, \"max_len\": 200.0, \"type\": \"avg_return\", \"value\": 200.0}, {\"epoch\": 68.0, \"min_return\": 154.0, \"max_return\": 200.0, \"min_len\": 154.0, \"max_len\": 200.0, \"type\": \"avg_return\", \"value\": 198.23076923076923}, {\"epoch\": 69.0, \"min_return\": 175.0, \"max_return\": 200.0, \"min_len\": 175.0, \"max_len\": 200.0, \"type\": \"avg_return\", \"value\": 199.03846153846155}, {\"epoch\": 70.0, \"min_return\": 172.0, \"max_return\": 200.0, \"min_len\": 172.0, \"max_len\": 200.0, \"type\": \"avg_return\", \"value\": 198.92307692307693}, {\"epoch\": 71.0, \"min_return\": 200.0, \"max_return\": 200.0, \"min_len\": 200.0, \"max_len\": 200.0, \"type\": \"avg_return\", \"value\": 200.0}, {\"epoch\": 72.0, \"min_return\": 200.0, \"max_return\": 200.0, \"min_len\": 200.0, \"max_len\": 200.0, \"type\": \"avg_return\", \"value\": 200.0}, {\"epoch\": 73.0, \"min_return\": 200.0, \"max_return\": 200.0, \"min_len\": 200.0, \"max_len\": 200.0, \"type\": \"avg_return\", \"value\": 200.0}, {\"epoch\": 74.0, \"min_return\": 200.0, \"max_return\": 200.0, \"min_len\": 200.0, \"max_len\": 200.0, \"type\": \"avg_return\", \"value\": 200.0}, {\"epoch\": 75.0, \"min_return\": 200.0, \"max_return\": 200.0, \"min_len\": 200.0, \"max_len\": 200.0, \"type\": \"avg_return\", \"value\": 200.0}, {\"epoch\": 76.0, \"min_return\": 200.0, \"max_return\": 200.0, \"min_len\": 200.0, \"max_len\": 200.0, \"type\": \"avg_return\", \"value\": 200.0}, {\"epoch\": 77.0, \"min_return\": 194.0, \"max_return\": 200.0, \"min_len\": 194.0, \"max_len\": 200.0, \"type\": \"avg_return\", \"value\": 199.76923076923077}, {\"epoch\": 78.0, \"min_return\": 200.0, \"max_return\": 200.0, \"min_len\": 200.0, \"max_len\": 200.0, \"type\": \"avg_return\", \"value\": 200.0}, {\"epoch\": 79.0, \"min_return\": 200.0, \"max_return\": 200.0, \"min_len\": 200.0, \"max_len\": 200.0, \"type\": \"avg_return\", \"value\": 200.0}, {\"epoch\": 80.0, \"min_return\": 200.0, \"max_return\": 200.0, \"min_len\": 200.0, \"max_len\": 200.0, \"type\": \"avg_return\", \"value\": 200.0}, {\"epoch\": 81.0, \"min_return\": 200.0, \"max_return\": 200.0, \"min_len\": 200.0, \"max_len\": 200.0, \"type\": \"avg_return\", \"value\": 200.0}, {\"epoch\": 82.0, \"min_return\": 187.0, \"max_return\": 200.0, \"min_len\": 187.0, \"max_len\": 200.0, \"type\": \"avg_return\", \"value\": 199.5}, {\"epoch\": 83.0, \"min_return\": 200.0, \"max_return\": 200.0, \"min_len\": 200.0, \"max_len\": 200.0, \"type\": \"avg_return\", \"value\": 200.0}, {\"epoch\": 84.0, \"min_return\": 130.0, \"max_return\": 200.0, \"min_len\": 130.0, \"max_len\": 200.0, \"type\": \"avg_return\", \"value\": 194.8846153846154}, {\"epoch\": 85.0, \"min_return\": 159.0, \"max_return\": 200.0, \"min_len\": 159.0, \"max_len\": 200.0, \"type\": \"avg_return\", \"value\": 197.03846153846155}, {\"epoch\": 86.0, \"min_return\": 120.0, \"max_return\": 200.0, \"min_len\": 120.0, \"max_len\": 200.0, \"type\": \"avg_return\", \"value\": 189.4814814814815}, {\"epoch\": 87.0, \"min_return\": 146.0, \"max_return\": 200.0, \"min_len\": 146.0, \"max_len\": 200.0, \"type\": \"avg_return\", \"value\": 194.30769230769232}, {\"epoch\": 88.0, \"min_return\": 188.0, \"max_return\": 200.0, \"min_len\": 188.0, \"max_len\": 200.0, \"type\": \"avg_return\", \"value\": 199.53846153846155}, {\"epoch\": 89.0, \"min_return\": 152.0, \"max_return\": 200.0, \"min_len\": 152.0, \"max_len\": 200.0, \"type\": \"avg_return\", \"value\": 198.15384615384616}, {\"epoch\": 0.0, \"min_return\": 9.0, \"max_return\": 103.0, \"min_len\": 9.0, \"max_len\": 103.0, \"type\": \"loss\", \"value\": 10.744215965270996}, {\"epoch\": 1.0, \"min_return\": 9.0, \"max_return\": 93.0, \"min_len\": 9.0, \"max_len\": 93.0, \"type\": \"loss\", \"value\": 10.740087509155273}, {\"epoch\": 2.0, \"min_return\": 9.0, \"max_return\": 80.0, \"min_len\": 9.0, \"max_len\": 80.0, \"type\": \"loss\", \"value\": 9.941965103149414}, {\"epoch\": 3.0, \"min_return\": 10.0, \"max_return\": 98.0, \"min_len\": 10.0, \"max_len\": 98.0, \"type\": \"loss\", \"value\": 10.855300903320312}, {\"epoch\": 4.0, \"min_return\": 9.0, \"max_return\": 66.0, \"min_len\": 9.0, \"max_len\": 66.0, \"type\": \"loss\", \"value\": 11.126039505004883}, {\"epoch\": 5.0, \"min_return\": 9.0, \"max_return\": 82.0, \"min_len\": 9.0, \"max_len\": 82.0, \"type\": \"loss\", \"value\": 11.098573684692383}, {\"epoch\": 6.0, \"min_return\": 10.0, \"max_return\": 165.0, \"min_len\": 10.0, \"max_len\": 165.0, \"type\": \"loss\", \"value\": 13.088951110839844}, {\"epoch\": 7.0, \"min_return\": 9.0, \"max_return\": 118.0, \"min_len\": 9.0, \"max_len\": 118.0, \"type\": \"loss\", \"value\": 13.958952903747559}, {\"epoch\": 8.0, \"min_return\": 9.0, \"max_return\": 121.0, \"min_len\": 9.0, \"max_len\": 121.0, \"type\": \"loss\", \"value\": 13.937479972839355}, {\"epoch\": 9.0, \"min_return\": 10.0, \"max_return\": 130.0, \"min_len\": 10.0, \"max_len\": 130.0, \"type\": \"loss\", \"value\": 13.05078411102295}, {\"epoch\": 10.0, \"min_return\": 10.0, \"max_return\": 104.0, \"min_len\": 10.0, \"max_len\": 104.0, \"type\": \"loss\", \"value\": 14.246644020080566}, {\"epoch\": 11.0, \"min_return\": 9.0, \"max_return\": 107.0, \"min_len\": 9.0, \"max_len\": 107.0, \"type\": \"loss\", \"value\": 14.711260795593262}, {\"epoch\": 12.0, \"min_return\": 10.0, \"max_return\": 114.0, \"min_len\": 10.0, \"max_len\": 114.0, \"type\": \"loss\", \"value\": 15.534845352172852}, {\"epoch\": 13.0, \"min_return\": 10.0, \"max_return\": 156.0, \"min_len\": 10.0, \"max_len\": 156.0, \"type\": \"loss\", \"value\": 16.283872604370117}, {\"epoch\": 14.0, \"min_return\": 9.0, \"max_return\": 94.0, \"min_len\": 9.0, \"max_len\": 94.0, \"type\": \"loss\", \"value\": 15.674919128417969}, {\"epoch\": 15.0, \"min_return\": 10.0, \"max_return\": 115.0, \"min_len\": 10.0, \"max_len\": 115.0, \"type\": \"loss\", \"value\": 16.66322135925293}, {\"epoch\": 16.0, \"min_return\": 9.0, \"max_return\": 118.0, \"min_len\": 9.0, \"max_len\": 118.0, \"type\": \"loss\", \"value\": 15.520747184753418}, {\"epoch\": 17.0, \"min_return\": 11.0, \"max_return\": 116.0, \"min_len\": 11.0, \"max_len\": 116.0, \"type\": \"loss\", \"value\": 18.680007934570312}, {\"epoch\": 18.0, \"min_return\": 11.0, \"max_return\": 113.0, \"min_len\": 11.0, \"max_len\": 113.0, \"type\": \"loss\", \"value\": 17.231637954711914}, {\"epoch\": 19.0, \"min_return\": 17.0, \"max_return\": 165.0, \"min_len\": 17.0, \"max_len\": 165.0, \"type\": \"loss\", \"value\": 19.061975479125977}, {\"epoch\": 20.0, \"min_return\": 12.0, \"max_return\": 119.0, \"min_len\": 12.0, \"max_len\": 119.0, \"type\": \"loss\", \"value\": 19.279016494750977}, {\"epoch\": 21.0, \"min_return\": 14.0, \"max_return\": 168.0, \"min_len\": 14.0, \"max_len\": 168.0, \"type\": \"loss\", \"value\": 22.5852108001709}, {\"epoch\": 22.0, \"min_return\": 12.0, \"max_return\": 131.0, \"min_len\": 12.0, \"max_len\": 131.0, \"type\": \"loss\", \"value\": 19.178150177001953}, {\"epoch\": 23.0, \"min_return\": 17.0, \"max_return\": 157.0, \"min_len\": 17.0, \"max_len\": 157.0, \"type\": \"loss\", \"value\": 23.916534423828125}, {\"epoch\": 24.0, \"min_return\": 16.0, \"max_return\": 175.0, \"min_len\": 16.0, \"max_len\": 175.0, \"type\": \"loss\", \"value\": 24.3004207611084}, {\"epoch\": 25.0, \"min_return\": 16.0, \"max_return\": 200.0, \"min_len\": 16.0, \"max_len\": 200.0, \"type\": \"loss\", \"value\": 25.898496627807617}, {\"epoch\": 26.0, \"min_return\": 15.0, \"max_return\": 192.0, \"min_len\": 15.0, \"max_len\": 192.0, \"type\": \"loss\", \"value\": 27.058364868164062}, {\"epoch\": 27.0, \"min_return\": 23.0, \"max_return\": 181.0, \"min_len\": 23.0, \"max_len\": 181.0, \"type\": \"loss\", \"value\": 26.28719139099121}, {\"epoch\": 28.0, \"min_return\": 21.0, \"max_return\": 177.0, \"min_len\": 21.0, \"max_len\": 177.0, \"type\": \"loss\", \"value\": 26.53731346130371}, {\"epoch\": 29.0, \"min_return\": 29.0, \"max_return\": 200.0, \"min_len\": 29.0, \"max_len\": 200.0, \"type\": \"loss\", \"value\": 27.65996551513672}, {\"epoch\": 30.0, \"min_return\": 27.0, \"max_return\": 200.0, \"min_len\": 27.0, \"max_len\": 200.0, \"type\": \"loss\", \"value\": 33.84661865234375}, {\"epoch\": 31.0, \"min_return\": 27.0, \"max_return\": 200.0, \"min_len\": 27.0, \"max_len\": 200.0, \"type\": \"loss\", \"value\": 36.843528747558594}, {\"epoch\": 32.0, \"min_return\": 27.0, \"max_return\": 200.0, \"min_len\": 27.0, \"max_len\": 200.0, \"type\": \"loss\", \"value\": 41.02902603149414}, {\"epoch\": 33.0, \"min_return\": 21.0, \"max_return\": 200.0, \"min_len\": 21.0, \"max_len\": 200.0, \"type\": \"loss\", \"value\": 43.09320831298828}, {\"epoch\": 34.0, \"min_return\": 34.0, \"max_return\": 200.0, \"min_len\": 34.0, \"max_len\": 200.0, \"type\": \"loss\", \"value\": 45.90364456176758}, {\"epoch\": 35.0, \"min_return\": 20.0, \"max_return\": 200.0, \"min_len\": 20.0, \"max_len\": 200.0, \"type\": \"loss\", \"value\": 46.6474723815918}, {\"epoch\": 36.0, \"min_return\": 57.0, \"max_return\": 200.0, \"min_len\": 57.0, \"max_len\": 200.0, \"type\": \"loss\", \"value\": 45.189002990722656}, {\"epoch\": 37.0, \"min_return\": 71.0, \"max_return\": 200.0, \"min_len\": 71.0, \"max_len\": 200.0, \"type\": \"loss\", \"value\": 47.47057342529297}, {\"epoch\": 38.0, \"min_return\": 82.0, \"max_return\": 200.0, \"min_len\": 82.0, \"max_len\": 200.0, \"type\": \"loss\", \"value\": 46.95376205444336}, {\"epoch\": 39.0, \"min_return\": 76.0, \"max_return\": 200.0, \"min_len\": 76.0, \"max_len\": 200.0, \"type\": \"loss\", \"value\": 47.92522430419922}, {\"epoch\": 40.0, \"min_return\": 77.0, \"max_return\": 200.0, \"min_len\": 77.0, \"max_len\": 200.0, \"type\": \"loss\", \"value\": 48.37605667114258}, {\"epoch\": 41.0, \"min_return\": 95.0, \"max_return\": 200.0, \"min_len\": 95.0, \"max_len\": 200.0, \"type\": \"loss\", \"value\": 48.36061477661133}, {\"epoch\": 42.0, \"min_return\": 129.0, \"max_return\": 200.0, \"min_len\": 129.0, \"max_len\": 200.0, \"type\": \"loss\", \"value\": 51.25035858154297}, {\"epoch\": 43.0, \"min_return\": 92.0, \"max_return\": 200.0, \"min_len\": 92.0, \"max_len\": 200.0, \"type\": \"loss\", \"value\": 49.419273376464844}, {\"epoch\": 44.0, \"min_return\": 52.0, \"max_return\": 200.0, \"min_len\": 52.0, \"max_len\": 200.0, \"type\": \"loss\", \"value\": 49.76912307739258}, {\"epoch\": 45.0, \"min_return\": 87.0, \"max_return\": 200.0, \"min_len\": 87.0, \"max_len\": 200.0, \"type\": \"loss\", \"value\": 50.24279022216797}, {\"epoch\": 46.0, \"min_return\": 100.0, \"max_return\": 200.0, \"min_len\": 100.0, \"max_len\": 200.0, \"type\": \"loss\", \"value\": 50.207035064697266}, {\"epoch\": 47.0, \"min_return\": 93.0, \"max_return\": 200.0, \"min_len\": 93.0, \"max_len\": 200.0, \"type\": \"loss\", \"value\": 49.0720100402832}, {\"epoch\": 48.0, \"min_return\": 168.0, \"max_return\": 200.0, \"min_len\": 168.0, \"max_len\": 200.0, \"type\": \"loss\", \"value\": 50.210269927978516}, {\"epoch\": 49.0, \"min_return\": 149.0, \"max_return\": 200.0, \"min_len\": 149.0, \"max_len\": 200.0, \"type\": \"loss\", \"value\": 49.61935043334961}, {\"epoch\": 50.0, \"min_return\": 138.0, \"max_return\": 200.0, \"min_len\": 138.0, \"max_len\": 200.0, \"type\": \"loss\", \"value\": 49.182132720947266}, {\"epoch\": 51.0, \"min_return\": 147.0, \"max_return\": 200.0, \"min_len\": 147.0, \"max_len\": 200.0, \"type\": \"loss\", \"value\": 48.50075149536133}, {\"epoch\": 52.0, \"min_return\": 171.0, \"max_return\": 200.0, \"min_len\": 171.0, \"max_len\": 200.0, \"type\": \"loss\", \"value\": 47.89877700805664}, {\"epoch\": 53.0, \"min_return\": 164.0, \"max_return\": 200.0, \"min_len\": 164.0, \"max_len\": 200.0, \"type\": \"loss\", \"value\": 47.75483322143555}, {\"epoch\": 54.0, \"min_return\": 116.0, \"max_return\": 200.0, \"min_len\": 116.0, \"max_len\": 200.0, \"type\": \"loss\", \"value\": 47.875579833984375}, {\"epoch\": 55.0, \"min_return\": 121.0, \"max_return\": 200.0, \"min_len\": 121.0, \"max_len\": 200.0, \"type\": \"loss\", \"value\": 47.167484283447266}, {\"epoch\": 56.0, \"min_return\": 134.0, \"max_return\": 200.0, \"min_len\": 134.0, \"max_len\": 200.0, \"type\": \"loss\", \"value\": 45.92262649536133}, {\"epoch\": 57.0, \"min_return\": 139.0, \"max_return\": 200.0, \"min_len\": 139.0, \"max_len\": 200.0, \"type\": \"loss\", \"value\": 46.13994598388672}, {\"epoch\": 58.0, \"min_return\": 135.0, \"max_return\": 200.0, \"min_len\": 135.0, \"max_len\": 200.0, \"type\": \"loss\", \"value\": 45.512149810791016}, {\"epoch\": 59.0, \"min_return\": 124.0, \"max_return\": 200.0, \"min_len\": 124.0, \"max_len\": 200.0, \"type\": \"loss\", \"value\": 46.093929290771484}, {\"epoch\": 60.0, \"min_return\": 122.0, \"max_return\": 200.0, \"min_len\": 122.0, \"max_len\": 200.0, \"type\": \"loss\", \"value\": 44.86539840698242}, {\"epoch\": 61.0, \"min_return\": 153.0, \"max_return\": 200.0, \"min_len\": 153.0, \"max_len\": 200.0, \"type\": \"loss\", \"value\": 46.25138473510742}, {\"epoch\": 62.0, \"min_return\": 144.0, \"max_return\": 200.0, \"min_len\": 144.0, \"max_len\": 200.0, \"type\": \"loss\", \"value\": 45.558963775634766}, {\"epoch\": 63.0, \"min_return\": 177.0, \"max_return\": 200.0, \"min_len\": 177.0, \"max_len\": 200.0, \"type\": \"loss\", \"value\": 45.81250762939453}, {\"epoch\": 64.0, \"min_return\": 165.0, \"max_return\": 200.0, \"min_len\": 165.0, \"max_len\": 200.0, \"type\": \"loss\", \"value\": 45.821529388427734}, {\"epoch\": 65.0, \"min_return\": 200.0, \"max_return\": 200.0, \"min_len\": 200.0, \"max_len\": 200.0, \"type\": \"loss\", \"value\": 46.049232482910156}, {\"epoch\": 66.0, \"min_return\": 200.0, \"max_return\": 200.0, \"min_len\": 200.0, \"max_len\": 200.0, \"type\": \"loss\", \"value\": 46.221282958984375}, {\"epoch\": 67.0, \"min_return\": 200.0, \"max_return\": 200.0, \"min_len\": 200.0, \"max_len\": 200.0, \"type\": \"loss\", \"value\": 47.23983383178711}, {\"epoch\": 68.0, \"min_return\": 154.0, \"max_return\": 200.0, \"min_len\": 154.0, \"max_len\": 200.0, \"type\": \"loss\", \"value\": 45.71996307373047}, {\"epoch\": 69.0, \"min_return\": 175.0, \"max_return\": 200.0, \"min_len\": 175.0, \"max_len\": 200.0, \"type\": \"loss\", \"value\": 46.51131820678711}, {\"epoch\": 70.0, \"min_return\": 172.0, \"max_return\": 200.0, \"min_len\": 172.0, \"max_len\": 200.0, \"type\": \"loss\", \"value\": 45.52510070800781}, {\"epoch\": 71.0, \"min_return\": 200.0, \"max_return\": 200.0, \"min_len\": 200.0, \"max_len\": 200.0, \"type\": \"loss\", \"value\": 46.72638702392578}, {\"epoch\": 72.0, \"min_return\": 200.0, \"max_return\": 200.0, \"min_len\": 200.0, \"max_len\": 200.0, \"type\": \"loss\", \"value\": 45.93163299560547}, {\"epoch\": 73.0, \"min_return\": 200.0, \"max_return\": 200.0, \"min_len\": 200.0, \"max_len\": 200.0, \"type\": \"loss\", \"value\": 45.7562370300293}, {\"epoch\": 74.0, \"min_return\": 200.0, \"max_return\": 200.0, \"min_len\": 200.0, \"max_len\": 200.0, \"type\": \"loss\", \"value\": 45.90140151977539}, {\"epoch\": 75.0, \"min_return\": 200.0, \"max_return\": 200.0, \"min_len\": 200.0, \"max_len\": 200.0, \"type\": \"loss\", \"value\": 45.77448272705078}, {\"epoch\": 76.0, \"min_return\": 200.0, \"max_return\": 200.0, \"min_len\": 200.0, \"max_len\": 200.0, \"type\": \"loss\", \"value\": 46.378116607666016}, {\"epoch\": 77.0, \"min_return\": 194.0, \"max_return\": 200.0, \"min_len\": 194.0, \"max_len\": 200.0, \"type\": \"loss\", \"value\": 46.28049850463867}, {\"epoch\": 78.0, \"min_return\": 200.0, \"max_return\": 200.0, \"min_len\": 200.0, \"max_len\": 200.0, \"type\": \"loss\", \"value\": 45.67096710205078}, {\"epoch\": 79.0, \"min_return\": 200.0, \"max_return\": 200.0, \"min_len\": 200.0, \"max_len\": 200.0, \"type\": \"loss\", \"value\": 46.495174407958984}, {\"epoch\": 80.0, \"min_return\": 200.0, \"max_return\": 200.0, \"min_len\": 200.0, \"max_len\": 200.0, \"type\": \"loss\", \"value\": 46.28998565673828}, {\"epoch\": 81.0, \"min_return\": 200.0, \"max_return\": 200.0, \"min_len\": 200.0, \"max_len\": 200.0, \"type\": \"loss\", \"value\": 45.60087585449219}, {\"epoch\": 82.0, \"min_return\": 187.0, \"max_return\": 200.0, \"min_len\": 187.0, \"max_len\": 200.0, \"type\": \"loss\", \"value\": 45.70636749267578}, {\"epoch\": 83.0, \"min_return\": 200.0, \"max_return\": 200.0, \"min_len\": 200.0, \"max_len\": 200.0, \"type\": \"loss\", \"value\": 45.42769241333008}, {\"epoch\": 84.0, \"min_return\": 130.0, \"max_return\": 200.0, \"min_len\": 130.0, \"max_len\": 200.0, \"type\": \"loss\", \"value\": 44.651065826416016}, {\"epoch\": 85.0, \"min_return\": 159.0, \"max_return\": 200.0, \"min_len\": 159.0, \"max_len\": 200.0, \"type\": \"loss\", \"value\": 46.03987121582031}, {\"epoch\": 86.0, \"min_return\": 120.0, \"max_return\": 200.0, \"min_len\": 120.0, \"max_len\": 200.0, \"type\": \"loss\", \"value\": 43.36943817138672}, {\"epoch\": 87.0, \"min_return\": 146.0, \"max_return\": 200.0, \"min_len\": 146.0, \"max_len\": 200.0, \"type\": \"loss\", \"value\": 44.62897872924805}, {\"epoch\": 88.0, \"min_return\": 188.0, \"max_return\": 200.0, \"min_len\": 188.0, \"max_len\": 200.0, \"type\": \"loss\", \"value\": 44.86124038696289}, {\"epoch\": 89.0, \"min_return\": 152.0, \"max_return\": 200.0, \"min_len\": 152.0, \"max_len\": 200.0, \"type\": \"loss\", \"value\": 45.23517608642578}]}}, {\"mode\": \"vega-lite\"});\n",
       "</script>"
      ],
      "text/plain": [
       "alt.LayerChart(...)"
      ]
     },
     "execution_count": 5,
     "metadata": {},
     "output_type": "execute_result"
    }
   ],
   "source": [
    "base = alt.Chart(results.melt([\"epoch\", \"min_return\", \"max_return\", \"min_len\", \"max_len\"], value_vars=None, var_name=\"type\"))\n",
    "(\n",
    "    base.mark_line().encode(x=\"epoch:Q\", y=\"value:Q\", color=\"type:N\") +\n",
    "    base.mark_area(color=\"blue\", opacity=0.3).encode(x=\"epoch:Q\", y=\"min_return:Q\", y2=\"max_return:Q\")\n",
    ")"
   ]
  },
  {
   "cell_type": "code",
   "execution_count": 7,
   "metadata": {},
   "outputs": [
    {
     "data": {
      "text/plain": [
       "(200, 200.0)"
      ]
     },
     "execution_count": 7,
     "metadata": {},
     "output_type": "execute_result"
    }
   ],
   "source": [
    "a.play()"
   ]
  },
  {
   "cell_type": "code",
   "execution_count": null,
   "metadata": {},
   "outputs": [],
   "source": []
  }
 ],
 "metadata": {
  "kernelspec": {
   "display_name": "Python 3",
   "language": "python",
   "name": "python3"
  },
  "language_info": {
   "codemirror_mode": {
    "name": "ipython",
    "version": 3
   },
   "file_extension": ".py",
   "mimetype": "text/x-python",
   "name": "python",
   "nbconvert_exporter": "python",
   "pygments_lexer": "ipython3",
   "version": "3.8.2"
  }
 },
 "nbformat": 4,
 "nbformat_minor": 4
}
